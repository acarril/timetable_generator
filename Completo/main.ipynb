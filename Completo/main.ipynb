{
 "cells": [
  {
   "cell_type": "code",
   "execution_count": 413,
   "metadata": {},
   "outputs": [],
   "source": [
    "import gurobipy as gp\n",
    "from gurobipy import GRB\n",
    "from operator import itemgetter\n",
    "import itertools\n",
    "import math"
   ]
  },
  {
   "attachments": {},
   "cell_type": "markdown",
   "metadata": {},
   "source": [
    "# Modelo general"
   ]
  },
  {
   "cell_type": "code",
   "execution_count": 414,
   "metadata": {},
   "outputs": [],
   "source": [
    "model = gp.Model(\"Generación de horarios de colegio\")\n",
    "model.setParam('OutputFlag', 1)\n",
    "\n",
    "M = 10000\n",
    "C_ = ['A'] # Cursos\n",
    "I_ = [1] # Niveles\n",
    "tope_modulos = [1, 2, 3, 4, 5, 6, 7, 8, 9, 10]\n",
    "J_ = {\n",
    "    'Lunes': [1, 2, 3, 4, 5, 6], \n",
    "    'Martes': [1, 2, 3, 4, 5, 6, 7, 8], \n",
    "    'Miércoles': [1, 2, 3, 4, 5, 6], \n",
    "    'Jueves': [1, 2, 3, 4, 5, 6, 7, 8], \n",
    "    'Viernes': [1, 2, 3, 4, 5, 6]\n",
    "} # Módulos\n",
    "combinaciones = [\n",
    "    (1,2),(3,4),(5,6),(7,8)\n",
    "]\n",
    "K_ = [\n",
    "    'Lenguaje', 'Matemáticas', 'Educación_Física', 'Historia', 'Ciencias_Naturales', 'Inglés', 'Artes_Visuales',\n",
    "    'Religión', 'Tecnología', 'Música', 'Orientación_Pastoral'\n",
    "]\n",
    "D_ = ['Lunes', 'Martes', 'Miércoles', 'Jueves', 'Viernes']\n",
    "P_ = [\n",
    "    'Alexis_Sanchez', 'Arturo_Vidal', 'Claudio_Bravo', \n",
    "    'Gary_Medel', \n",
    "    'Harry_Potter', 'Ron_Weasley', 'Hermione_Granger', 'Draco_Malfoy',\n",
    "    'Harry_Potter2', 'Ron_Weasley2', 'Hermione_Granger2', 'Draco_Malfoy2'\n",
    "]\n",
    "\n",
    "clases_por_profesor = {\n",
    "    'Alexis_Sanchez': [('Lenguaje', 1), ('Artes_Visuales', 1), ('Inglés', 1), ('Lenguaje', 2), ('Artes_Visuales', 2), ('Inglés', 2)],\n",
    "    'Arturo_Vidal': [('Religión', 2), ('Música', 2), ('Orientación_Pastoral', 2), ('Religión', 1), ('Música', 1), ('Orientación_Pastoral', 1)],\n",
    "    'Claudio_Bravo': [('Matemáticas', 1), ('Historia', 1), ('Ciencias_Naturales', 1), ('Matemáticas', 2), ('Historia', 2), ('Ciencias_Naturales', 2)],\n",
    "    'Gary_Medel': [('Tecnología', 2), ('Educación_Física', 2), ('Tecnología', 1), ('Educación_Física', 1)],\n",
    "\n",
    "    'Harry_Potter': [('Lenguaje', 2), ('Artes_Visuales', 2), ('Inglés', 2), ('Lenguaje', 1), ('Artes_Visuales', 1), ('Inglés', 1)],    \n",
    "    'Ron_Weasley': [('Religión', 2), ('Música', 2), ('Orientación_Pastoral', 2), ('Religión', 1), ('Música', 1), ('Orientación_Pastoral', 1)],\n",
    "    'Hermione_Granger': [('Matemáticas', 1), ('Historia', 1), ('Ciencias_Naturales', 1), ('Matemáticas', 2), ('Historia', 2), ('Ciencias_Naturales', 2)],\n",
    "    'Draco_Malfoy': [('Tecnología', 2), ('Educación_Física', 2), ('Tecnología', 1), ('Educación_Física', 1)],\n",
    "\n",
    "    'Harry_Potter2': [('Lenguaje', 2), ('Artes_Visuales', 2), ('Inglés', 2), ('Lenguaje', 1), ('Artes_Visuales', 1), ('Inglés', 1)],    \n",
    "    'Ron_Weasley2': [('Religión', 2), ('Música', 2), ('Orientación_Pastoral', 2), ('Religión', 1), ('Música', 1), ('Orientación_Pastoral', 1)],\n",
    "    'Hermione_Granger2': [('Matemáticas', 1), ('Historia', 1), ('Ciencias_Naturales', 1), ('Matemáticas', 2), ('Historia', 2), ('Ciencias_Naturales', 2)],\n",
    "    'Draco_Malfoy2': [('Tecnología', 2), ('Educación_Física', 2), ('Tecnología', 1), ('Educación_Física', 1)],\n",
    "}\n",
    "\n",
    "clases_por_nivel = {\n",
    "    ('Lenguaje', 1): 8,\n",
    "    ('Matemáticas', 1): 6,\n",
    "    ('Educación_Física', 1): 4,\n",
    "    ('Historia', 1): 3,\n",
    "    ('Ciencias_Naturales', 1): 3,\n",
    "    ('Inglés', 1): 2,\n",
    "    ('Artes_Visuales', 1): 2, \n",
    "    ('Religión', 1): 2,\n",
    "    ('Tecnología', 1): 1,\n",
    "    ('Orientación_Pastoral', 1): 1,\n",
    "    ('Música', 1): 2, \n",
    "    \n",
    "    ('Lenguaje', 2): 8,\n",
    "    ('Matemáticas', 2): 6,\n",
    "    ('Educación_Física', 2): 4,\n",
    "    ('Historia', 2): 3,\n",
    "    ('Ciencias_Naturales', 2): 3,\n",
    "    ('Inglés', 2): 2,\n",
    "    ('Artes_Visuales', 2): 2, \n",
    "    ('Religión', 2): 2,\n",
    "    ('Tecnología', 2): 1,\n",
    "    ('Orientación_Pastoral', 2): 1,\n",
    "    ('Música', 2): 2\n",
    "}\n",
    "\n",
    "\n",
    "x = model.addVars(K_, D_, tope_modulos, I_, C_, vtype=GRB.BINARY, name='x')\n",
    "y = model.addVars(K_, D_, tope_modulos, I_, C_, P_, vtype=GRB.BINARY, name='y')\n",
    "s = model.addVars(K_, D_, I_, C_, vtype=GRB.BINARY, name='s')"
   ]
  },
  {
   "attachments": {},
   "cell_type": "markdown",
   "metadata": {},
   "source": [
    "# Restricciones del modelo"
   ]
  },
  {
   "attachments": {},
   "cell_type": "markdown",
   "metadata": {},
   "source": [
    "##### Una clase por módulo y solo en los que se permite"
   ]
  },
  {
   "cell_type": "code",
   "execution_count": 415,
   "metadata": {},
   "outputs": [],
   "source": [
    "model.addConstrs((sum(x[k,d,j,i,c] for k in K_) == 1 for d in D_ for j in J_[d] for i in I_ for c in C_),name=\"RX1\");"
   ]
  },
  {
   "cell_type": "code",
   "execution_count": 416,
   "metadata": {},
   "outputs": [],
   "source": [
    "model.addConstrs((sum(x[k,d,j,i,c] for k in K_) == 0 for d in D_ for j in list(set(tope_modulos) - set(J_[d])) for i in I_ for c in C_),name=\"RX2\");"
   ]
  },
  {
   "attachments": {},
   "cell_type": "markdown",
   "metadata": {},
   "source": [
    "##### Cumplir con la cantidad de módulos de clases de todos los ramos"
   ]
  },
  {
   "cell_type": "code",
   "execution_count": 417,
   "metadata": {},
   "outputs": [],
   "source": [
    "model.addConstrs((sum(x[k,d,j,i,c] for d in D_ for j in J_[d]) == clases_por_nivel[k, i] for k in K_ for i in I_ for c in C_),name=\"RX3\");"
   ]
  },
  {
   "attachments": {},
   "cell_type": "markdown",
   "metadata": {},
   "source": [
    "##### Máximo de dos clases de la misma materia en un día y si es que hay, que sean seguidas"
   ]
  },
  {
   "cell_type": "code",
   "execution_count": 418,
   "metadata": {},
   "outputs": [],
   "source": [
    "model.addConstrs((sum(x[k,d,j,i,c] for j in J_[d]) <= 2 for k in K_ for d in D_ for i in I_ for c in C_),name=\"RX4\");"
   ]
  },
  {
   "cell_type": "code",
   "execution_count": 419,
   "metadata": {},
   "outputs": [],
   "source": [
    "model.addConstrs((x[k,d,j,i,c] + x[k,d,z,i,c] <= 1 for k in K_ for d in D_ for i in I_ for c in C_ for j,z in list(set([(a,b) for a in J_[d] for b in J_[d] if a < b]) - set(combinaciones))),name=\"RX5\");"
   ]
  },
  {
   "attachments": {},
   "cell_type": "markdown",
   "metadata": {},
   "source": [
    "##### Restricciones profesores"
   ]
  },
  {
   "attachments": {},
   "cell_type": "markdown",
   "metadata": {},
   "source": [
    "Un profesor por clase"
   ]
  },
  {
   "cell_type": "code",
   "execution_count": 420,
   "metadata": {},
   "outputs": [],
   "source": [
    "model.addConstrs((sum(y[k,d,j,i,c,p] for k in K_ for p in P_) == 1 for d in D_ for j in J_[d] for i in I_ for c in C_),name=\"RY1\");"
   ]
  },
  {
   "attachments": {},
   "cell_type": "markdown",
   "metadata": {},
   "source": [
    "Solo hay profesor para cierto horario si en ese horario hay clases"
   ]
  },
  {
   "cell_type": "code",
   "execution_count": 421,
   "metadata": {},
   "outputs": [],
   "source": [
    "model.addConstrs((sum(y[k,d,j,i,c,p] for p in P_) <= x[k,d,j,i,c] for k in K_ for d in D_ for j in J_[d] for i in I_ for c in C_),name=\"RY2\");"
   ]
  },
  {
   "attachments": {},
   "cell_type": "markdown",
   "metadata": {},
   "source": [
    "Los profesores no hacen los ramos que no dictan"
   ]
  },
  {
   "cell_type": "code",
   "execution_count": 422,
   "metadata": {},
   "outputs": [],
   "source": [
    "model.addConstrs((y[k,d,j,i,c,p] == 0 for p in P_ for d in D_ for j in J_[d] for c in C_ for k, i in list(set([(a,b) for a in K_ for b in I_]) - set(clases_por_profesor[p]))),name=\"RY3\");"
   ]
  },
  {
   "attachments": {},
   "cell_type": "markdown",
   "metadata": {},
   "source": [
    "Los profesores solo hacen una clase en un módulo a la vez"
   ]
  },
  {
   "cell_type": "code",
   "execution_count": 423,
   "metadata": {},
   "outputs": [],
   "source": [
    "model.addConstrs((sum(y[k,d,j,i,c,p] for k in K_ for i in I_ for c in C_) <= 1 for p in P_ for d in D_ for j in J_[d]),name=\"RY4\");"
   ]
  },
  {
   "attachments": {},
   "cell_type": "markdown",
   "metadata": {},
   "source": [
    "El mismo profesor le hace todas las clases de un ramo a un mismo curso"
   ]
  },
  {
   "cell_type": "code",
   "execution_count": 424,
   "metadata": {},
   "outputs": [],
   "source": [
    "model.addConstrs((sum(y[k,d,j,i,c,p] for d in D_ for j in J_[d]) <= 1 for i in I_ for c in C_ for k in K_ for p in P_),name=\"RY5\");"
   ]
  },
  {
   "attachments": {},
   "cell_type": "markdown",
   "metadata": {},
   "source": [
    "##### Funcionamiento variable s"
   ]
  },
  {
   "cell_type": "code",
   "execution_count": 425,
   "metadata": {},
   "outputs": [],
   "source": [
    "model.addConstrs((M * s[k,d,i,c] >= sum(x[k,d,j,i,c] for j in J_[d]) for k in K_ for d in D_ for i in I_ for c in C_),name=\"RS1\");"
   ]
  },
  {
   "cell_type": "code",
   "execution_count": 426,
   "metadata": {},
   "outputs": [],
   "source": [
    "model.addConstrs((sum(s[k,d,i,c] for d in D_) <= math.ceil(clases_por_nivel[k,i] / 2) for k in K_ for d in D_ for i in I_ for c in C_),name=\"RS2\");"
   ]
  },
  {
   "attachments": {},
   "cell_type": "markdown",
   "metadata": {},
   "source": [
    "##### Correr modelo"
   ]
  },
  {
   "cell_type": "code",
   "execution_count": 427,
   "metadata": {},
   "outputs": [
    {
     "name": "stdout",
     "output_type": "stream",
     "text": [
      "Gurobi Optimizer version 9.5.1 build v9.5.1rc2 (win64)\n",
      "Thread count: 4 physical cores, 8 logical processors, using up to 8 threads\n",
      "Optimize a model with 5332 rows, 7205 columns and 21054 nonzeros\n",
      "Model fingerprint: 0xf5018ef6\n",
      "Variable types: 0 continuous, 7205 integer (7205 binary)\n",
      "Coefficient statistics:\n",
      "  Matrix range     [1e+00, 1e+04]\n",
      "  Objective range  [1e+00, 1e+00]\n",
      "  Bounds range     [1e+00, 1e+00]\n",
      "  RHS range        [1e+00, 8e+00]\n",
      "Presolve removed 5122 rows and 6874 columns\n",
      "Presolve time: 0.03s\n",
      "Presolved: 210 rows, 331 columns, 1445 nonzeros\n",
      "Variable types: 0 continuous, 331 integer (331 binary)\n",
      "\n",
      "Root relaxation: objective 3.400000e+01, 168 iterations, 0.00 seconds (0.00 work units)\n",
      "\n",
      "    Nodes    |    Current Node    |     Objective Bounds      |     Work\n",
      " Expl Unexpl |  Obj  Depth IntInf | Incumbent    BestBd   Gap | It/Node Time\n",
      "\n",
      "*    0     0               0      34.0000000   34.00000  0.00%     -    0s\n",
      "\n",
      "Explored 1 nodes (168 simplex iterations) in 0.05 seconds (0.03 work units)\n",
      "Thread count was 8 (of 8 available processors)\n",
      "\n",
      "Solution count 1: 34 \n",
      "\n",
      "Optimal solution found (tolerance 1.00e-04)\n",
      "Best objective 3.400000000000e+01, best bound 3.400000000000e+01, gap 0.0000%\n"
     ]
    }
   ],
   "source": [
    "obj = sum(\n",
    "    x[k,d,j,i,c] for k in K_ for d in D_ for j in J_[d] for i in I_ for c in C_\n",
    ")\n",
    "\n",
    "model.setObjective(obj, GRB.MINIMIZE)\n",
    "model.update()\n",
    "# model.optimize()\n",
    "model.write('model.lp')\n",
    "\n",
    "# model.computeIIS()\n",
    "# removed =[]\n",
    "# for c in model.getConstrs():\n",
    "#     if c.IISConstr:\n",
    "#         print('%s' % c.constrName)\n",
    "#         # Remove a single constraint from the model\n",
    "#         removed.append(str(c.constrName))\n",
    "#         model.remove(c)\n",
    "\n",
    "model.optimize()\n",
    "model.write('out.sol')"
   ]
  },
  {
   "cell_type": "code",
   "execution_count": 428,
   "metadata": {},
   "outputs": [],
   "source": [
    "lista_final = []\n",
    "with open('out.sol', 'r') as file:\n",
    "    lines = file.readlines()\n",
    "    for line in lines:\n",
    "        if line[-2] == '1':\n",
    "            line = line.strip('\\n')\n",
    "            lista_final.append(line)\n",
    "# print(lista_final)\n",
    "diccionario_dias = {\n",
    "    'Lunes': 1,\n",
    "    'Martes': 2,\n",
    "    'Miércoles': 3,\n",
    "    'Jueves': 4,\n",
    "    'Viernes': 5\n",
    "}\n",
    "\n",
    "vuelta = {\n",
    "    1: 'Lunes',\n",
    "    2: 'Martes',\n",
    "    3: 'Miércoles',\n",
    "    4: 'Jueves',\n",
    "    5: 'Viernes'\n",
    "}\n",
    "\n",
    "nueva_lista = []\n",
    "profesores = []\n",
    "for elem in lista_final:\n",
    "    if elem[0] == \"x\":\n",
    "        elem = elem[2:-3]\n",
    "        elem = elem.split(',')\n",
    "        nueva_lista.append(elem)\n",
    "    elif elem[0] == \"y\":\n",
    "        elem = elem[2:-3]\n",
    "        elem = elem.split(',')\n",
    "        profesores.append(elem)\n",
    "for i in range(len(nueva_lista)):\n",
    "    nueva_lista[i][1] = diccionario_dias[nueva_lista[i][1]]\n",
    "nueva_lista = sorted(nueva_lista, key= lambda x: x[2])\n",
    "nueva_lista = sorted(nueva_lista, key= lambda x: x[1])\n",
    "nueva_lista = sorted(nueva_lista, key= lambda x: x[4])\n",
    "\n",
    "for i in range(len(nueva_lista)):\n",
    "    nueva_lista[i][1] = vuelta[nueva_lista[i][1]]\n",
    "\n",
    "for i in range(len(profesores)):\n",
    "    profesores[i][1] = diccionario_dias[profesores[i][1]]\n",
    "\n",
    "profesores = sorted(profesores, key= lambda x: x[2])\n",
    "profesores = sorted(profesores, key= lambda x: x[1])\n",
    "profesores = sorted(profesores, key= lambda x: x[4])\n",
    "\n",
    "for i in range(len(profesores)):\n",
    "    profesores[i][1] = vuelta[profesores[i][1]]\n",
    "\n",
    "\n",
    "\n",
    "\n",
    "# print(nueva_lista)\n",
    "# print(profesores)\n",
    "# for elem in nueva_lista:\n",
    "#     if elem[3] == '2' and elem[4] == 'A':\n",
    "#         print(elem)\n",
    "# for elem in profesores:\n",
    "#     if elem[0] == 'Lenguaje':\n",
    "#         print(elem)"
   ]
  },
  {
   "cell_type": "code",
   "execution_count": 429,
   "metadata": {},
   "outputs": [
    {
     "name": "stdout",
     "output_type": "stream",
     "text": [
      "Horario del curso 1A: \n"
     ]
    },
    {
     "data": {
      "text/html": [
       "<table frame=\"box\" rules=\"cols\">\n",
       "    <thead>\n",
       "        <tr>\n",
       "            <th style=\"padding-left: 1em; padding-right: 1em; text-align: center\"></th>\n",
       "            <th style=\"padding-left: 1em; padding-right: 1em; text-align: center\">Lunes</th>\n",
       "            <th style=\"padding-left: 1em; padding-right: 1em; text-align: center\">Martes</th>\n",
       "            <th style=\"padding-left: 1em; padding-right: 1em; text-align: center\">Miércoles</th>\n",
       "            <th style=\"padding-left: 1em; padding-right: 1em; text-align: center\">Jueves</th>\n",
       "            <th style=\"padding-left: 1em; padding-right: 1em; text-align: center\">Viernes</th>\n",
       "        </tr>\n",
       "    </thead>\n",
       "    <tbody>\n",
       "        <tr>\n",
       "            <td style=\"padding-left: 1em; padding-right: 1em; text-align: center; vertical-align: top\">1</td>\n",
       "            <td style=\"padding-left: 1em; padding-right: 1em; text-align: center; vertical-align: top\">Historia <br> Claudio Bravo</td>\n",
       "            <td style=\"padding-left: 1em; padding-right: 1em; text-align: center; vertical-align: top\">Ciencias Naturales <br> Hermione Granger2</td>\n",
       "            <td style=\"padding-left: 1em; padding-right: 1em; text-align: center; vertical-align: top\">Lenguaje <br> Harry Potter2</td>\n",
       "            <td style=\"padding-left: 1em; padding-right: 1em; text-align: center; vertical-align: top\">Orientación Pastoral <br> Ron Weasley2</td>\n",
       "            <td style=\"padding-left: 1em; padding-right: 1em; text-align: center; vertical-align: top\">Lenguaje <br> Harry Potter2</td>\n",
       "        </tr>\n",
       "        <tr>\n",
       "            <td style=\"padding-left: 1em; padding-right: 1em; text-align: center; vertical-align: top\">2</td>\n",
       "            <td style=\"padding-left: 1em; padding-right: 1em; text-align: center; vertical-align: top\">Tecnología <br> Draco Malfoy</td>\n",
       "            <td style=\"padding-left: 1em; padding-right: 1em; text-align: center; vertical-align: top\">Ciencias Naturales <br> Hermione Granger2</td>\n",
       "            <td style=\"padding-left: 1em; padding-right: 1em; text-align: center; vertical-align: top\">Lenguaje <br> Harry Potter2</td>\n",
       "            <td style=\"padding-left: 1em; padding-right: 1em; text-align: center; vertical-align: top\">Ciencias Naturales <br> Hermione Granger</td>\n",
       "            <td style=\"padding-left: 1em; padding-right: 1em; text-align: center; vertical-align: top\">Lenguaje <br> Alexis Sanchez</td>\n",
       "        </tr>\n",
       "        <tr>\n",
       "            <td style=\"padding-left: 1em; padding-right: 1em; text-align: center; vertical-align: top\">3</td>\n",
       "            <td style=\"padding-left: 1em; padding-right: 1em; text-align: center; vertical-align: top\">Matemáticas <br> Hermione Granger2</td>\n",
       "            <td style=\"padding-left: 1em; padding-right: 1em; text-align: center; vertical-align: top\">Música <br> Arturo Vidal</td>\n",
       "            <td style=\"padding-left: 1em; padding-right: 1em; text-align: center; vertical-align: top\">Educación Física <br> Gary Medel</td>\n",
       "            <td style=\"padding-left: 1em; padding-right: 1em; text-align: center; vertical-align: top\">Lenguaje <br> Harry Potter</td>\n",
       "            <td style=\"padding-left: 1em; padding-right: 1em; text-align: center; vertical-align: top\">Artes Visuales <br> Alexis Sanchez</td>\n",
       "        </tr>\n",
       "        <tr>\n",
       "            <td style=\"padding-left: 1em; padding-right: 1em; text-align: center; vertical-align: top\">4</td>\n",
       "            <td style=\"padding-left: 1em; padding-right: 1em; text-align: center; vertical-align: top\">Matemáticas <br> Claudio Bravo</td>\n",
       "            <td style=\"padding-left: 1em; padding-right: 1em; text-align: center; vertical-align: top\">Música <br> Arturo Vidal</td>\n",
       "            <td style=\"padding-left: 1em; padding-right: 1em; text-align: center; vertical-align: top\">Educación Física <br> Draco Malfoy2</td>\n",
       "            <td style=\"padding-left: 1em; padding-right: 1em; text-align: center; vertical-align: top\">Lenguaje <br> Harry Potter2</td>\n",
       "            <td style=\"padding-left: 1em; padding-right: 1em; text-align: center; vertical-align: top\">Artes Visuales <br> Harry Potter2</td>\n",
       "        </tr>\n",
       "        <tr>\n",
       "            <td style=\"padding-left: 1em; padding-right: 1em; text-align: center; vertical-align: top\">5</td>\n",
       "            <td style=\"padding-left: 1em; padding-right: 1em; text-align: center; vertical-align: top\">Educación Física <br> Gary Medel</td>\n",
       "            <td style=\"padding-left: 1em; padding-right: 1em; text-align: center; vertical-align: top\">Inglés <br> Alexis Sanchez</td>\n",
       "            <td style=\"padding-left: 1em; padding-right: 1em; text-align: center; vertical-align: top\">Historia <br> Hermione Granger2</td>\n",
       "            <td style=\"padding-left: 1em; padding-right: 1em; text-align: center; vertical-align: top\">Religión <br> Arturo Vidal</td>\n",
       "            <td style=\"padding-left: 1em; padding-right: 1em; text-align: center; vertical-align: top\">Matemáticas <br> Hermione Granger2</td>\n",
       "        </tr>\n",
       "        <tr>\n",
       "            <td style=\"padding-left: 1em; padding-right: 1em; text-align: center; vertical-align: top\">6</td>\n",
       "            <td style=\"padding-left: 1em; padding-right: 1em; text-align: center; vertical-align: top\">Educación Física <br> Gary Medel</td>\n",
       "            <td style=\"padding-left: 1em; padding-right: 1em; text-align: center; vertical-align: top\">Inglés <br> Harry Potter2</td>\n",
       "            <td style=\"padding-left: 1em; padding-right: 1em; text-align: center; vertical-align: top\">Historia <br> Hermione Granger</td>\n",
       "            <td style=\"padding-left: 1em; padding-right: 1em; text-align: center; vertical-align: top\">Religión <br> Arturo Vidal</td>\n",
       "            <td style=\"padding-left: 1em; padding-right: 1em; text-align: center; vertical-align: top\">Matemáticas <br> Hermione Granger2</td>\n",
       "        </tr>\n",
       "        <tr>\n",
       "            <td style=\"padding-left: 1em; padding-right: 1em; text-align: center; vertical-align: top\">7</td>\n",
       "            <td style=\"padding-left: 1em; padding-right: 1em; text-align: center; vertical-align: top\"></td>\n",
       "            <td style=\"padding-left: 1em; padding-right: 1em; text-align: center; vertical-align: top\">Lenguaje <br> Harry Potter2</td>\n",
       "            <td style=\"padding-left: 1em; padding-right: 1em; text-align: center; vertical-align: top\"></td>\n",
       "            <td style=\"padding-left: 1em; padding-right: 1em; text-align: center; vertical-align: top\">Matemáticas <br> Claudio Bravo</td>\n",
       "            <td style=\"padding-left: 1em; padding-right: 1em; text-align: center; vertical-align: top\"></td>\n",
       "        </tr>\n",
       "        <tr>\n",
       "            <td style=\"padding-left: 1em; padding-right: 1em; text-align: center; vertical-align: top\">8</td>\n",
       "            <td style=\"padding-left: 1em; padding-right: 1em; text-align: center; vertical-align: top\"></td>\n",
       "            <td style=\"padding-left: 1em; padding-right: 1em; text-align: center; vertical-align: top\">Lenguaje <br> Harry Potter2</td>\n",
       "            <td style=\"padding-left: 1em; padding-right: 1em; text-align: center; vertical-align: top\"></td>\n",
       "            <td style=\"padding-left: 1em; padding-right: 1em; text-align: center; vertical-align: top\">Matemáticas <br> Hermione Granger</td>\n",
       "            <td style=\"padding-left: 1em; padding-right: 1em; text-align: center; vertical-align: top\"></td>\n",
       "        </tr>\n",
       "    </tbody>\n",
       "</table>"
      ],
      "text/plain": [
       "+---+--------------------+---------------------+--------------------+-----------------------+--------------------+\n",
       "|   |       Lunes        |        Martes       |     Miércoles      |         Jueves        |      Viernes       |\n",
       "+---+--------------------+---------------------+--------------------+-----------------------+--------------------+\n",
       "| 1 |     Historia       | Ciencias Naturales  |     Lenguaje       | Orientación Pastoral  |     Lenguaje       |\n",
       "|   |    Claudio Bravo   |   Hermione Granger2 |    Harry Potter2   |      Ron Weasley2     |    Harry Potter2   |\n",
       "| 2 |    Tecnología      | Ciencias Naturales  |     Lenguaje       |  Ciencias Naturales   |     Lenguaje       |\n",
       "|   |    Draco Malfoy    |   Hermione Granger2 |    Harry Potter2   |    Hermione Granger   |   Alexis Sanchez   |\n",
       "| 3 |    Matemáticas     |       Música        | Educación Física   |       Lenguaje        |  Artes Visuales    |\n",
       "|   |  Hermione Granger2 |     Arturo Vidal    |     Gary Medel     |      Harry Potter     |   Alexis Sanchez   |\n",
       "| 4 |    Matemáticas     |       Música        | Educación Física   |       Lenguaje        |  Artes Visuales    |\n",
       "|   |    Claudio Bravo   |     Arturo Vidal    |    Draco Malfoy2   |      Harry Potter2    |    Harry Potter2   |\n",
       "| 5 | Educación Física   |       Inglés        |     Historia       |       Religión        |    Matemáticas     |\n",
       "|   |     Gary Medel     |    Alexis Sanchez   |  Hermione Granger2 |      Arturo Vidal     |  Hermione Granger2 |\n",
       "| 6 | Educación Física   |       Inglés        |     Historia       |       Religión        |    Matemáticas     |\n",
       "|   |     Gary Medel     |     Harry Potter2   |  Hermione Granger  |      Arturo Vidal     |  Hermione Granger2 |\n",
       "| 7 |                    |      Lenguaje       |                    |      Matemáticas      |                    |\n",
       "|   |                    |     Harry Potter2   |                    |      Claudio Bravo    |                    |\n",
       "| 8 |                    |      Lenguaje       |                    |      Matemáticas      |                    |\n",
       "|   |                    |     Harry Potter2   |                    |    Hermione Granger   |                    |\n",
       "+---+--------------------+---------------------+--------------------+-----------------------+--------------------+"
      ]
     },
     "execution_count": 429,
     "metadata": {},
     "output_type": "execute_result"
    }
   ],
   "source": [
    "from prettytable import PrettyTable\n",
    "\n",
    "def generar_horario(curso):\n",
    "    nivel = curso[:-1]\n",
    "    paralelo = curso[-1]\n",
    "\n",
    "    clases_curso = []\n",
    "    dias = []\n",
    "    ultimo_dia = None\n",
    "    horario = PrettyTable(dias)\n",
    "    lista_auxiliar = []\n",
    "    lista_dia = None\n",
    "    for elem in profesores:    \n",
    "        if elem[3] == nivel and elem[4] == paralelo:\n",
    "            clases_curso.append([elem[0], elem[1], elem[2], elem[5]])\n",
    "            if elem[1] not in dias:\n",
    "                dias.append(elem[1])\n",
    "            if elem[1] != ultimo_dia:\n",
    "                lista_auxiliar.append(lista_dia)\n",
    "                lista_dia = []\n",
    "                ultimo_dia = elem[1]\n",
    "                lista_dia.append(ultimo_dia)\n",
    "                elem[0] = elem[0].replace('_', ' ')\n",
    "                elem[5] = elem[5].replace('_', ' ')\n",
    "                lista_dia.append(f'{elem[0]} \\n {elem[5]}')\n",
    "            else:\n",
    "                elem[0] = elem[0].replace('_', ' ')\n",
    "                elem[5] = elem[5].replace('_', ' ')\n",
    "                lista_dia.append(f'{elem[0]} \\n {elem[5]}')\n",
    "\n",
    "    lista_auxiliar.append(lista_dia)\n",
    "    lista_auxiliar = lista_auxiliar[1:]\n",
    "\n",
    "    len_maxima = 0\n",
    "    for dia in lista_auxiliar:\n",
    "        if len(dia) > len_maxima:\n",
    "            len_maxima = len(dia)\n",
    "\n",
    "    horario.add_column('', [i+1 for i in range(len_maxima - 1)])\n",
    "\n",
    "    for i in range(len(lista_auxiliar)):\n",
    "        for j in range(len_maxima - len(lista_auxiliar[i])):\n",
    "            lista_auxiliar[i].append('')\n",
    "        horario.add_column(lista_auxiliar[i][0], lista_auxiliar[i][1:], align='c')\n",
    "    horario.format = True   \n",
    "    print(f'Horario del curso {curso}: ')   \n",
    "    return horario\n",
    "\n",
    "curso = '1A'\n",
    "generar_horario(curso)"
   ]
  }
 ],
 "metadata": {
  "kernelspec": {
   "display_name": "Python 3",
   "language": "python",
   "name": "python3"
  },
  "language_info": {
   "codemirror_mode": {
    "name": "ipython",
    "version": 3
   },
   "file_extension": ".py",
   "mimetype": "text/x-python",
   "name": "python",
   "nbconvert_exporter": "python",
   "pygments_lexer": "ipython3",
   "version": "3.8.10"
  },
  "orig_nbformat": 4,
  "vscode": {
   "interpreter": {
    "hash": "be96e54ac1641eb6b0b6e091bda5f4569f87f77d93d2c1fb370b248d11e29b0c"
   }
  }
 },
 "nbformat": 4,
 "nbformat_minor": 2
}
