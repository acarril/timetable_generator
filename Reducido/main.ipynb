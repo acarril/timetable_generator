{
 "cells": [
  {
   "attachments": {},
   "cell_type": "markdown",
   "metadata": {},
   "source": [
    "A priori es probable que se sepa qué profesores harán cada clase para cada curso. Esto reduce considerablemente el tamaño del problema, por lo que tiene sentido armar un modelo reducido que considere esto."
   ]
  },
  {
   "cell_type": "code",
   "execution_count": 1,
   "metadata": {},
   "outputs": [],
   "source": [
    "import gurobipy as gp\n",
    "from gurobipy import GRB\n",
    "from operator import itemgetter\n",
    "import itertools\n",
    "import math\n",
    "import numpy as np \n",
    "import json\n",
    "from prettytable import PrettyTable\n",
    "\n",
    "\n",
    "class MultiDimensionalArrayEncoder(json.JSONEncoder):\n",
    "    def encode(self, obj):\n",
    "        def hint_tuples(item):\n",
    "            if isinstance(item, tuple):\n",
    "                return {'__tuple__': True, 'items': item}\n",
    "            if isinstance(item, list):\n",
    "                return [hint_tuples(e) for e in item]\n",
    "            if isinstance(item, dict):\n",
    "                return {key: hint_tuples(value) for key, value in item.items()}\n",
    "            else:\n",
    "                return item\n",
    "\n",
    "        return super(MultiDimensionalArrayEncoder, self).encode(hint_tuples(obj))\n",
    "def hinted_tuple_hook(obj):\n",
    "    if '__tuple__' in obj:\n",
    "        return tuple(obj['items'])\n",
    "    else:\n",
    "        return obj\n",
    "enc = MultiDimensionalArrayEncoder()"
   ]
  },
  {
   "cell_type": "code",
   "execution_count": 2,
   "metadata": {},
   "outputs": [],
   "source": [
    "def formar_asignaciones(profesores_por_curso: dict):\n",
    "    lista_asignaciones = []\n",
    "    for curso in profesores_por_curso:\n",
    "        for tupla in profesores_por_curso[curso]:\n",
    "            lista_asignaciones.append((curso[:-1], curso[-1], tupla[0], tupla[1], ))\n",
    "    return lista_asignaciones "
   ]
  },
  {
   "cell_type": "code",
   "execution_count": 5,
   "metadata": {},
   "outputs": [],
   "source": [
    "model = gp.Model(\"Generación de horarios de colegio\")\n",
    "# model.setParam('OutputFlag', 1)\n",
    "f = open('parametros.json',encoding='utf8')\n",
    "\n",
    "M = 10000\n",
    "data = json.load(f, object_hook=hinted_tuple_hook)\n",
    "dias = data['dias']\n",
    "modulos = data['modulos']\n",
    "ramos_con_modulos_seguidos = data['ramos_con_modulos_seguidos']\n",
    "combinaciones = data['combinaciones']\n",
    "horarios = data['horarios']\n",
    "profesores_por_curso = data['profesores_por_curso']\n",
    "ramos_por_curso = data['ramos_por_curso']\n",
    "profesores = data['profesores']\n",
    "\n",
    "\n",
    "\n",
    "\n",
    "# ! DATOS HECHIZOS\n",
    "\n",
    "cantidad_profesores_ramo = {\n",
    "    \"Lenguaje\": 10,\n",
    "    \"Matemáticas\": 10,\n",
    "    \"Historia\": 7,\n",
    "    \"Artes_Visuales\": 5,\n",
    "    \"Música\": 5,\n",
    "    \"Educación_Física\": 8,\n",
    "    \"Orientación\": 4,\n",
    "    \"Tecnología\": 4,\n",
    "    \"Religión\": 5,\n",
    "    \"Ciencias_Naturales\": 7,\n",
    "    \"Inglés\": 7,\n",
    "    \"Consejo_de_Curso\": 1,\n",
    "    \"Filosofía\": 1\n",
    "}\n",
    "\n",
    "cantidad_cursos_profesor = {\n",
    "    \"Lenguaje\": 4,\n",
    "    \"Matemáticas\": 4,\n",
    "    \"Historia\": 4,\n",
    "    \"Artes_Visuales\": 6,\n",
    "    \"Música\": 6,\n",
    "    \"Educación_Física\": 4,\n",
    "    \"Orientación\": 10,\n",
    "    \"Tecnología\": 10,\n",
    "    \"Religión\": 7,\n",
    "    \"Ciencias_Naturales\": 4,\n",
    "    \"Inglés\": 4,\n",
    "    \"Consejo_de_Curso\": 10,\n",
    "    \"Filosofía\": 10\n",
    "}\n",
    "\n",
    "import simulador\n",
    "ramos_por_curso = simulador.generar_horas_libres(ramos_por_curso)\n",
    "lista_profesores_para_asignaciones, profesores = simulador.generar_profesores(7, 74, cantidad_profesores_ramo, cantidad_cursos_profesor)\n",
    "profesores_por_curso = simulador.generar_asignaciones(lista_profesores_para_asignaciones, ramos_por_curso)\n",
    "\n",
    "asignaciones = formar_asignaciones(profesores_por_curso)\n",
    "\n",
    "x = model.addVars(asignaciones,dias,modulos,vtype=GRB.BINARY, name=\"x\")\n",
    "s = model.addVars(asignaciones,dias,vtype=GRB.BINARY, name=\"s\")"
   ]
  },
  {
   "attachments": {},
   "cell_type": "markdown",
   "metadata": {},
   "source": [
    "El profesor asignado hace la clase en algún momento"
   ]
  },
  {
   "cell_type": "code",
   "execution_count": 6,
   "metadata": {},
   "outputs": [],
   "source": [
    "model.addConstrs((sum(x[curso[:-1],curso[-1],p,k,dia,modulo+1] for p,k in profesores_por_curso[curso]) == 1 \\\n",
    "    for curso in horarios for dia in horarios[curso] for modulo in range(horarios[curso][dia])),name=\"R1\");"
   ]
  },
  {
   "attachments": {},
   "cell_type": "markdown",
   "metadata": {},
   "source": [
    "Cumplir con la cantidad de clases semanales"
   ]
  },
  {
   "cell_type": "code",
   "execution_count": 7,
   "metadata": {},
   "outputs": [
    {
     "data": {
      "text/plain": [
       "[('Rwjrtodf', 'Lenguaje'),\n",
       " ('Ebxhpccz', 'Matemáticas'),\n",
       " ('Vqnecdtg', 'Historia'),\n",
       " ('Nehrtvbg', 'Artes_Visuales'),\n",
       " ('Fvgwkkao', 'Educación_Física'),\n",
       " ('Vjvtvabl', 'Orientación'),\n",
       " ('Rxsdmvku', 'Tecnología'),\n",
       " ('Tcbzgnwg', 'Religión'),\n",
       " ('Rgmswibx', 'Inglés'),\n",
       " ('Sarwesqg', 'Ciencias_Naturales')]"
      ]
     },
     "execution_count": 7,
     "metadata": {},
     "output_type": "execute_result"
    }
   ],
   "source": [
    "profesores_por_curso['IIA']"
   ]
  },
  {
   "cell_type": "code",
   "execution_count": 8,
   "metadata": {},
   "outputs": [],
   "source": [
    "model.addConstrs((sum(x[curso[:-1],curso[-1],p,k,dia,j] for dia in dias for j in modulos) == ramos_por_curso[curso][k] \\\n",
    "    for curso in horarios for p,k in profesores_por_curso[curso]),name=\"R2\");"
   ]
  },
  {
   "attachments": {},
   "cell_type": "markdown",
   "metadata": {},
   "source": [
    "No pasarse del módulo máximo (se asume que los horarios son continuos)"
   ]
  },
  {
   "cell_type": "code",
   "execution_count": 9,
   "metadata": {},
   "outputs": [],
   "source": [
    "model.addConstrs((sum(x[curso[:-1],curso[-1],p,k,dia,j] for p,k in profesores_por_curso[curso]) == 0 \\\n",
    "    for curso in horarios for dia in horarios[curso] for j in modulos if j > horarios[curso][dia]),name=\"R3\");"
   ]
  },
  {
   "attachments": {},
   "cell_type": "markdown",
   "metadata": {},
   "source": [
    "Los profesores solo pueden estar en un lugar al mismo tiempo"
   ]
  },
  {
   "cell_type": "code",
   "execution_count": 10,
   "metadata": {},
   "outputs": [],
   "source": [
    "model.addConstrs((sum(x[i,c,p,k,dia,j] for i,c,_,k in asignaciones if _ == p) <= 1 \\\n",
    "    for p in profesores for dia in dias for j in modulos), name=\"R4\");"
   ]
  },
  {
   "attachments": {},
   "cell_type": "markdown",
   "metadata": {},
   "source": [
    "Módulos de clases seguidos"
   ]
  },
  {
   "cell_type": "code",
   "execution_count": 11,
   "metadata": {},
   "outputs": [],
   "source": [
    "model.addConstrs(sum(x[curso[:-1],curso[-1],p,k,dia,j] for j in modulos) <= 2 for dia in dias for curso in horarios for p,k in profesores_por_curso[curso]);"
   ]
  },
  {
   "cell_type": "code",
   "execution_count": 12,
   "metadata": {},
   "outputs": [],
   "source": [
    "model.addConstrs(x[i,c,p,k,dia,j] + x[i,c,p,k,dia,z] <= 1 for i,c,p,k in asignaciones for dia in dias for j,z in list(set([(a+1,b+1) for a in range(horarios[i+c][dia]) for b in range(horarios[i+c][dia]) if a < b]) - set(combinaciones)));"
   ]
  },
  {
   "cell_type": "code",
   "execution_count": 13,
   "metadata": {},
   "outputs": [],
   "source": [
    "model.addConstrs((M * s[i,c,p,k,d] >= sum(x[i,c,p,k,d,j] for j in modulos) for i,c,p,k in asignaciones for d in dias),name=\"RS1\");"
   ]
  },
  {
   "cell_type": "code",
   "execution_count": 14,
   "metadata": {},
   "outputs": [],
   "source": [
    "model.addConstrs((sum(s[curso[:-1],curso[-1],p,k,d] for d in dias) <= math.ceil(ramos_por_curso[curso][k] / 2) for curso in horarios for p,k in profesores_por_curso[curso] if k in ramos_con_modulos_seguidos),name=\"RS2\");"
   ]
  },
  {
   "cell_type": "code",
   "execution_count": 15,
   "metadata": {},
   "outputs": [
    {
     "name": "stdout",
     "output_type": "stream",
     "text": [
      "Gurobi Optimizer version 9.5.1 build v9.5.1rc2 (win64)\n",
      "Thread count: 4 physical cores, 8 logical processors, using up to 8 threads\n",
      "Optimize a model with 35714 rows, 12400 columns and 114336 nonzeros\n",
      "Model fingerprint: 0x92f35b35\n",
      "Variable types: 0 continuous, 12400 integer (12400 binary)\n",
      "Coefficient statistics:\n",
      "  Matrix range     [1e+00, 1e+04]\n",
      "  Objective range  [0e+00, 0e+00]\n",
      "  Bounds range     [1e+00, 1e+00]\n",
      "  RHS range        [1e+00, 1e+01]\n",
      "Presolve removed 24644 rows and 2484 columns\n",
      "Presolve time: 0.27s\n",
      "Presolved: 11070 rows, 9916 columns, 63739 nonzeros\n",
      "Variable types: 0 continuous, 9916 integer (9916 binary)\n",
      "\n",
      "Root relaxation: objective 0.000000e+00, 10579 iterations, 1.81 seconds (2.50 work units)\n",
      "\n",
      "    Nodes    |    Current Node    |     Objective Bounds      |     Work\n",
      " Expl Unexpl |  Obj  Depth IntInf | Incumbent    BestBd   Gap | It/Node Time\n",
      "\n",
      "H    0     0                       0.0000000    0.00000  0.00%     -    2s\n",
      "     0     0    0.00000    0   18    0.00000    0.00000  0.00%     -    2s\n",
      "\n",
      "Explored 1 nodes (13189 simplex iterations) in 2.44 seconds (3.29 work units)\n",
      "Thread count was 8 (of 8 available processors)\n",
      "\n",
      "Solution count 1: 0 \n",
      "\n",
      "Optimal solution found (tolerance 1.00e-04)\n",
      "Best objective 0.000000000000e+00, best bound 0.000000000000e+00, gap 0.0000%\n"
     ]
    }
   ],
   "source": [
    "model.setObjective(0, GRB.MINIMIZE)\n",
    "\n",
    "model.write('model.lp')\n",
    "\n",
    "# model.computeIIS()\n",
    "# removed =[]\n",
    "# for c in model.getConstrs():\n",
    "#     if c.IISConstr:\n",
    "#         print('%s' % c.constrName)\n",
    "#         # Remove a single constraint from the model\n",
    "#         removed.append(str(c.constrName))\n",
    "#         model.remove(c)\n",
    "\n",
    "model.update()\n",
    "model.optimize()\n",
    "model.write('out.sol')"
   ]
  },
  {
   "cell_type": "code",
   "execution_count": 19,
   "metadata": {},
   "outputs": [
    {
     "name": "stdout",
     "output_type": "stream",
     "text": [
      "Horario del curso IVA: \n"
     ]
    },
    {
     "data": {
      "text/html": [
       "<table frame=\"box\" rules=\"cols\">\n",
       "    <thead>\n",
       "        <tr>\n",
       "            <th style=\"padding-left: 1em; padding-right: 1em; text-align: center\"></th>\n",
       "            <th style=\"padding-left: 1em; padding-right: 1em; text-align: center\">Lunes</th>\n",
       "            <th style=\"padding-left: 1em; padding-right: 1em; text-align: center\">Martes</th>\n",
       "            <th style=\"padding-left: 1em; padding-right: 1em; text-align: center\">Miércoles</th>\n",
       "            <th style=\"padding-left: 1em; padding-right: 1em; text-align: center\">Jueves</th>\n",
       "            <th style=\"padding-left: 1em; padding-right: 1em; text-align: center\">Viernes</th>\n",
       "        </tr>\n",
       "    </thead>\n",
       "    <tbody>\n",
       "        <tr>\n",
       "            <td style=\"padding-left: 1em; padding-right: 1em; text-align: center; vertical-align: top\">1</td>\n",
       "            <td style=\"padding-left: 1em; padding-right: 1em; text-align: center; vertical-align: top\">Artes Visuales <br> Pndabokc</td>\n",
       "            <td style=\"padding-left: 1em; padding-right: 1em; text-align: center; vertical-align: top\">Lenguaje <br> Cxsikuoq</td>\n",
       "            <td style=\"padding-left: 1em; padding-right: 1em; text-align: center; vertical-align: top\">Ciencias Naturales <br> Yawnxpsq</td>\n",
       "            <td style=\"padding-left: 1em; padding-right: 1em; text-align: center; vertical-align: top\">Matemáticas <br> Ftzdloor</td>\n",
       "            <td style=\"padding-left: 1em; padding-right: 1em; text-align: center; vertical-align: top\">Historia <br> Ptxsyetv</td>\n",
       "        </tr>\n",
       "        <tr>\n",
       "            <td style=\"padding-left: 1em; padding-right: 1em; text-align: center; vertical-align: top\">2</td>\n",
       "            <td style=\"padding-left: 1em; padding-right: 1em; text-align: center; vertical-align: top\">Artes Visuales <br> Pndabokc</td>\n",
       "            <td style=\"padding-left: 1em; padding-right: 1em; text-align: center; vertical-align: top\">Lenguaje <br> Cxsikuoq</td>\n",
       "            <td style=\"padding-left: 1em; padding-right: 1em; text-align: center; vertical-align: top\">Ciencias Naturales <br> Yawnxpsq</td>\n",
       "            <td style=\"padding-left: 1em; padding-right: 1em; text-align: center; vertical-align: top\">Lenguaje <br> Cxsikuoq</td>\n",
       "            <td style=\"padding-left: 1em; padding-right: 1em; text-align: center; vertical-align: top\">Educación Física <br> Rcmnxqza</td>\n",
       "        </tr>\n",
       "        <tr>\n",
       "            <td style=\"padding-left: 1em; padding-right: 1em; text-align: center; vertical-align: top\">3</td>\n",
       "            <td style=\"padding-left: 1em; padding-right: 1em; text-align: center; vertical-align: top\">Ciencias Naturales <br> Yawnxpsq</td>\n",
       "            <td style=\"padding-left: 1em; padding-right: 1em; text-align: center; vertical-align: top\">Historia <br> Ptxsyetv</td>\n",
       "            <td style=\"padding-left: 1em; padding-right: 1em; text-align: center; vertical-align: top\">Artes Visuales <br> Pndabokc</td>\n",
       "            <td style=\"padding-left: 1em; padding-right: 1em; text-align: center; vertical-align: top\">Lenguaje <br> Cxsikuoq</td>\n",
       "            <td style=\"padding-left: 1em; padding-right: 1em; text-align: center; vertical-align: top\">Educación Física <br> Rcmnxqza</td>\n",
       "        </tr>\n",
       "        <tr>\n",
       "            <td style=\"padding-left: 1em; padding-right: 1em; text-align: center; vertical-align: top\">4</td>\n",
       "            <td style=\"padding-left: 1em; padding-right: 1em; text-align: center; vertical-align: top\">Historia <br> Ptxsyetv</td>\n",
       "            <td style=\"padding-left: 1em; padding-right: 1em; text-align: center; vertical-align: top\">Consejo de Curso <br> Zyhffzch</td>\n",
       "            <td style=\"padding-left: 1em; padding-right: 1em; text-align: center; vertical-align: top\">Inglés <br> Mrxvlokm</td>\n",
       "            <td style=\"padding-left: 1em; padding-right: 1em; text-align: center; vertical-align: top\">Religión <br> Unykahlm</td>\n",
       "            <td style=\"padding-left: 1em; padding-right: 1em; text-align: center; vertical-align: top\">Matemáticas <br> Ftzdloor</td>\n",
       "        </tr>\n",
       "        <tr>\n",
       "            <td style=\"padding-left: 1em; padding-right: 1em; text-align: center; vertical-align: top\">5</td>\n",
       "            <td style=\"padding-left: 1em; padding-right: 1em; text-align: center; vertical-align: top\">Inglés <br> Mrxvlokm</td>\n",
       "            <td style=\"padding-left: 1em; padding-right: 1em; text-align: center; vertical-align: top\">Filosofía <br> Ewoqbara</td>\n",
       "            <td style=\"padding-left: 1em; padding-right: 1em; text-align: center; vertical-align: top\">Filosofía <br> Ewoqbara</td>\n",
       "            <td style=\"padding-left: 1em; padding-right: 1em; text-align: center; vertical-align: top\">Inglés <br> Mrxvlokm</td>\n",
       "            <td style=\"padding-left: 1em; padding-right: 1em; text-align: center; vertical-align: top\">Lenguaje <br> Cxsikuoq</td>\n",
       "        </tr>\n",
       "        <tr>\n",
       "            <td style=\"padding-left: 1em; padding-right: 1em; text-align: center; vertical-align: top\">6</td>\n",
       "            <td style=\"padding-left: 1em; padding-right: 1em; text-align: center; vertical-align: top\">Matemáticas <br> Ftzdloor</td>\n",
       "            <td style=\"padding-left: 1em; padding-right: 1em; text-align: center; vertical-align: top\">Ciencias Naturales <br> Yawnxpsq</td>\n",
       "            <td style=\"padding-left: 1em; padding-right: 1em; text-align: center; vertical-align: top\">Lenguaje <br> Cxsikuoq</td>\n",
       "            <td style=\"padding-left: 1em; padding-right: 1em; text-align: center; vertical-align: top\">Filosofía <br> Ewoqbara</td>\n",
       "            <td style=\"padding-left: 1em; padding-right: 1em; text-align: center; vertical-align: top\">Consejo de Curso <br> Zyhffzch</td>\n",
       "        </tr>\n",
       "        <tr>\n",
       "            <td style=\"padding-left: 1em; padding-right: 1em; text-align: center; vertical-align: top\">7</td>\n",
       "            <td style=\"padding-left: 1em; padding-right: 1em; text-align: center; vertical-align: top\">Consejo de Curso <br> Zyhffzch</td>\n",
       "            <td style=\"padding-left: 1em; padding-right: 1em; text-align: center; vertical-align: top\">Ciencias Naturales <br> Yawnxpsq</td>\n",
       "            <td style=\"padding-left: 1em; padding-right: 1em; text-align: center; vertical-align: top\">Historia <br> Ptxsyetv</td>\n",
       "            <td style=\"padding-left: 1em; padding-right: 1em; text-align: center; vertical-align: top\">Filosofía <br> Ewoqbara</td>\n",
       "            <td style=\"padding-left: 1em; padding-right: 1em; text-align: center; vertical-align: top\">Religión <br> Unykahlm</td>\n",
       "        </tr>\n",
       "        <tr>\n",
       "            <td style=\"padding-left: 1em; padding-right: 1em; text-align: center; vertical-align: top\">8</td>\n",
       "            <td style=\"padding-left: 1em; padding-right: 1em; text-align: center; vertical-align: top\">Lenguaje <br> Cxsikuoq</td>\n",
       "            <td style=\"padding-left: 1em; padding-right: 1em; text-align: center; vertical-align: top\">Matemáticas <br> Ftzdloor</td>\n",
       "            <td style=\"padding-left: 1em; padding-right: 1em; text-align: center; vertical-align: top\">Educación Física <br> Rcmnxqza</td>\n",
       "            <td style=\"padding-left: 1em; padding-right: 1em; text-align: center; vertical-align: top\">Consejo de Curso <br> Zyhffzch</td>\n",
       "            <td style=\"padding-left: 1em; padding-right: 1em; text-align: center; vertical-align: top\"></td>\n",
       "        </tr>\n",
       "        <tr>\n",
       "            <td style=\"padding-left: 1em; padding-right: 1em; text-align: center; vertical-align: top\">9</td>\n",
       "            <td style=\"padding-left: 1em; padding-right: 1em; text-align: center; vertical-align: top\"></td>\n",
       "            <td style=\"padding-left: 1em; padding-right: 1em; text-align: center; vertical-align: top\">Religión <br> Unykahlm</td>\n",
       "            <td style=\"padding-left: 1em; padding-right: 1em; text-align: center; vertical-align: top\">Educación Física <br> Rcmnxqza</td>\n",
       "            <td style=\"padding-left: 1em; padding-right: 1em; text-align: center; vertical-align: top\">Historia <br> Ptxsyetv</td>\n",
       "            <td style=\"padding-left: 1em; padding-right: 1em; text-align: center; vertical-align: top\"></td>\n",
       "        </tr>\n",
       "    </tbody>\n",
       "</table>"
      ],
      "text/plain": [
       "+---+---------------------+---------------------+---------------------+-------------------+-------------------+\n",
       "|   |        Lunes        |        Martes       |      Miércoles      |       Jueves      |      Viernes      |\n",
       "+---+---------------------+---------------------+---------------------+-------------------+-------------------+\n",
       "| 1 |   Artes Visuales    |      Lenguaje       | Ciencias Naturales  |    Matemáticas    |     Historia      |\n",
       "|   |       Pndabokc      |       Cxsikuoq      |       Yawnxpsq      |      Ftzdloor     |      Ptxsyetv     |\n",
       "| 2 |   Artes Visuales    |      Lenguaje       | Ciencias Naturales  |     Lenguaje      | Educación Física  |\n",
       "|   |       Pndabokc      |       Cxsikuoq      |       Yawnxpsq      |      Cxsikuoq     |      Rcmnxqza     |\n",
       "| 3 | Ciencias Naturales  |      Historia       |   Artes Visuales    |     Lenguaje      | Educación Física  |\n",
       "|   |       Yawnxpsq      |       Ptxsyetv      |       Pndabokc      |      Cxsikuoq     |      Rcmnxqza     |\n",
       "| 4 |      Historia       |  Consejo de Curso   |       Inglés        |     Religión      |    Matemáticas    |\n",
       "|   |       Ptxsyetv      |       Zyhffzch      |       Mrxvlokm      |      Unykahlm     |      Ftzdloor     |\n",
       "| 5 |       Inglés        |      Filosofía      |      Filosofía      |      Inglés       |     Lenguaje      |\n",
       "|   |       Mrxvlokm      |       Ewoqbara      |       Ewoqbara      |      Mrxvlokm     |      Cxsikuoq     |\n",
       "| 6 |     Matemáticas     | Ciencias Naturales  |      Lenguaje       |     Filosofía     | Consejo de Curso  |\n",
       "|   |       Ftzdloor      |       Yawnxpsq      |       Cxsikuoq      |      Ewoqbara     |      Zyhffzch     |\n",
       "| 7 |  Consejo de Curso   | Ciencias Naturales  |      Historia       |     Filosofía     |     Religión      |\n",
       "|   |       Zyhffzch      |       Yawnxpsq      |       Ptxsyetv      |      Ewoqbara     |      Unykahlm     |\n",
       "| 8 |      Lenguaje       |     Matemáticas     |  Educación Física   | Consejo de Curso  |                   |\n",
       "|   |       Cxsikuoq      |       Ftzdloor      |       Rcmnxqza      |      Zyhffzch     |                   |\n",
       "| 9 |                     |      Religión       |  Educación Física   |     Historia      |                   |\n",
       "|   |                     |       Unykahlm      |       Rcmnxqza      |      Ptxsyetv     |                   |\n",
       "+---+---------------------+---------------------+---------------------+-------------------+-------------------+"
      ]
     },
     "execution_count": 19,
     "metadata": {},
     "output_type": "execute_result"
    }
   ],
   "source": [
    "def leer_output():\n",
    "    lista_final = []\n",
    "    with open('out.sol', 'r') as file:\n",
    "        lines = file.readlines()\n",
    "        for line in lines:\n",
    "            if line[-2] == '1':\n",
    "                line = line.strip('\\n')\n",
    "                lista_final.append(line)\n",
    "    # print(lista_final)\n",
    "    diccionario_dias = {\n",
    "        'Lunes': 1,\n",
    "        'Martes': 2,\n",
    "        'Miércoles': 3,\n",
    "        'Jueves': 4,\n",
    "        'Viernes': 5\n",
    "    }\n",
    "\n",
    "    vuelta = {\n",
    "        1: 'Lunes',\n",
    "        2: 'Martes',\n",
    "        3: 'Miércoles',\n",
    "        4: 'Jueves',\n",
    "        5: 'Viernes'\n",
    "    }\n",
    "\n",
    "    profesores_final = []\n",
    "    for elem in lista_final:\n",
    "        if elem[0] == \"x\":\n",
    "            elem = elem[2:-3]\n",
    "            elem = elem.split(',')\n",
    "            profesores_final.append(elem)\n",
    "    for i in range(len(profesores_final)):\n",
    "        profesores_final[i][4] = diccionario_dias[profesores_final[i][4]]\n",
    "    profesores_final = sorted(profesores_final, key= lambda x: x[5])\n",
    "    profesores_final = sorted(profesores_final, key= lambda x: x[4])\n",
    "    profesores_final = sorted(profesores_final, key= lambda x: x[1])\n",
    "\n",
    "    for i in range(len(profesores_final)):\n",
    "        profesores_final[i][4] = vuelta[profesores_final[i][4]]\n",
    "    return profesores_final\n",
    "\n",
    "def generar_horario(curso):\n",
    "    nivel = curso[:-1]\n",
    "    paralelo = curso[-1]\n",
    "\n",
    "    clases_curso = []\n",
    "    dias_semana = []\n",
    "    ultimo_dia = None\n",
    "    horario = PrettyTable(dias_semana)\n",
    "    lista_auxiliar = []\n",
    "    lista_dia = None\n",
    "    for elem in leer_output():    \n",
    "        if elem[0] == nivel and elem[1] == paralelo:\n",
    "            clases_curso.append([elem[3], elem[4], elem[5], elem[2]])\n",
    "            if elem[4] not in dias_semana:\n",
    "                dias_semana.append(elem[4])\n",
    "            if elem[4] != ultimo_dia:\n",
    "                lista_auxiliar.append(lista_dia)\n",
    "                lista_dia = []\n",
    "                ultimo_dia = elem[4]\n",
    "                lista_dia.append(ultimo_dia)\n",
    "                elem[3] = elem[3].replace('_', ' ')\n",
    "                elem[2] = elem[2].replace('_', ' ')\n",
    "                lista_dia.append(f'{elem[3]} \\n {elem[2]}')\n",
    "            else:\n",
    "                elem[3] = elem[3].replace('_', ' ')\n",
    "                elem[2] = elem[2].replace('_', ' ')\n",
    "                lista_dia.append(f'{elem[3]} \\n {elem[2]}')\n",
    "\n",
    "    lista_auxiliar.append(lista_dia)\n",
    "    lista_auxiliar = lista_auxiliar[1:]\n",
    "\n",
    "    len_maxima = 0\n",
    "    for dia in lista_auxiliar:\n",
    "        if len(dia) > len_maxima:\n",
    "            len_maxima = len(dia)\n",
    "\n",
    "    horario.add_column('', [i+1 for i in range(len_maxima - 1)])\n",
    "\n",
    "    for i in range(len(lista_auxiliar)):\n",
    "        for j in range(len_maxima - len(lista_auxiliar[i])):\n",
    "            lista_auxiliar[i].append('')\n",
    "        horario.add_column(lista_auxiliar[i][0], lista_auxiliar[i][1:], align='c')\n",
    "    horario.format = True   \n",
    "    print(f'Horario del curso {curso}: ')   \n",
    "    return horario\n",
    "\n",
    "curso = 'IVA'\n",
    "generar_horario(curso)"
   ]
  }
 ],
 "metadata": {
  "kernelspec": {
   "display_name": "Python 3",
   "language": "python",
   "name": "python3"
  },
  "language_info": {
   "codemirror_mode": {
    "name": "ipython",
    "version": 3
   },
   "file_extension": ".py",
   "mimetype": "text/x-python",
   "name": "python",
   "nbconvert_exporter": "python",
   "pygments_lexer": "ipython3",
   "version": "3.8.10"
  },
  "orig_nbformat": 4,
  "vscode": {
   "interpreter": {
    "hash": "be96e54ac1641eb6b0b6e091bda5f4569f87f77d93d2c1fb370b248d11e29b0c"
   }
  }
 },
 "nbformat": 4,
 "nbformat_minor": 2
}
