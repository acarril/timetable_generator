{
 "cells": [
  {
   "attachments": {},
   "cell_type": "markdown",
   "metadata": {},
   "source": [
    "A priori es probable que se sepa qué profesores harán cada clase para cada curso. Esto reduce considerablemente el tamaño del problema, por lo que tiene sentido armar un modelo reducido que considere esto."
   ]
  },
  {
   "cell_type": "code",
   "execution_count": 25,
   "metadata": {},
   "outputs": [],
   "source": [
    "import gurobipy as gp\n",
    "from gurobipy import GRB\n",
    "from operator import itemgetter\n",
    "import itertools\n",
    "import math\n",
    "import numpy as np \n",
    "import json\n",
    "from prettytable import PrettyTable\n",
    "\n",
    "\n",
    "class MultiDimensionalArrayEncoder(json.JSONEncoder):\n",
    "    def encode(self, obj):\n",
    "        def hint_tuples(item):\n",
    "            if isinstance(item, tuple):\n",
    "                return {'__tuple__': True, 'items': item}\n",
    "            if isinstance(item, list):\n",
    "                return [hint_tuples(e) for e in item]\n",
    "            if isinstance(item, dict):\n",
    "                return {key: hint_tuples(value) for key, value in item.items()}\n",
    "            else:\n",
    "                return item\n",
    "\n",
    "        return super(MultiDimensionalArrayEncoder, self).encode(hint_tuples(obj))\n",
    "def hinted_tuple_hook(obj):\n",
    "    if '__tuple__' in obj:\n",
    "        return tuple(obj['items'])\n",
    "    else:\n",
    "        return obj\n",
    "enc = MultiDimensionalArrayEncoder()"
   ]
  },
  {
   "cell_type": "code",
   "execution_count": 18,
   "metadata": {},
   "outputs": [],
   "source": [
    "def formar_asignaciones(profesores_por_curso: dict):\n",
    "    lista_asignaciones = []\n",
    "    for curso in profesores_por_curso:\n",
    "        for tupla in profesores_por_curso[curso]:\n",
    "            lista_asignaciones.append((curso, tupla[0], tupla[1], ))\n",
    "    return lista_asignaciones "
   ]
  },
  {
   "cell_type": "code",
   "execution_count": 58,
   "metadata": {},
   "outputs": [],
   "source": [
    "model = gp.Model(\"Generación de horarios de colegio\")\n",
    "# model.setParam('OutputFlag', 1)\n",
    "f = open('parametros2.json',encoding='utf8')\n",
    "\n",
    "M = 10000\n",
    "data = json.load(f, object_hook=hinted_tuple_hook)\n",
    "dias = data['dias']\n",
    "modulos = data['modulos']\n",
    "ramos_con_modulos_seguidos = data['ramos_con_modulos_seguidos']\n",
    "combinaciones = data['combinaciones']\n",
    "horarios = data['horarios']\n",
    "profesores_por_curso = data['profesores_por_curso']\n",
    "ramos_por_curso = data['ramos_por_curso']\n",
    "# modulos_combinados = data['modulos_combinados']\n",
    "\n",
    "# ! DATOS HECHIZOS\n",
    "\n",
    "cantidad_profesores_ramo = {\n",
    "    \"Lenguaje\": 10,\n",
    "    \"Matemáticas\": 10,\n",
    "    \"Historia\": 7,\n",
    "    \"Artes_Visuales\": 5,\n",
    "    \"Música\": 5,\n",
    "    \"Educación_Física\": 8,\n",
    "    \"Orientación\": 4,\n",
    "    \"Tecnología\": 4,\n",
    "    \"Religión\": 5,\n",
    "    \"Ciencias_Naturales\": 7,\n",
    "    \"Inglés\": 7,\n",
    "    \"Consejo_de_Curso\": 1,\n",
    "    \"Filosofía\": 1\n",
    "}\n",
    "\n",
    "cantidad_cursos_profesor = {\n",
    "    \"Lenguaje\": 4,\n",
    "    \"Matemáticas\": 4,\n",
    "    \"Historia\": 4,\n",
    "    \"Artes_Visuales\": 6,\n",
    "    \"Música\": 6,\n",
    "    \"Educación_Física\": 4,\n",
    "    \"Orientación\": 10,\n",
    "    \"Tecnología\": 10,\n",
    "    \"Religión\": 7,\n",
    "    \"Ciencias_Naturales\": 4,\n",
    "    \"Inglés\": 4,\n",
    "    \"Consejo_de_Curso\": 10,\n",
    "    \"Filosofía\": 10\n",
    "}\n",
    "\n",
    "import simulador\n",
    "ramos_por_curso = simulador.generar_horas_libres(ramos_por_curso)\n",
    "lista_profesores_para_asignaciones, profesores = simulador.generar_profesores(7, 74, cantidad_profesores_ramo, cantidad_cursos_profesor)\n",
    "profesores_por_curso = simulador.generar_asignaciones(lista_profesores_para_asignaciones, ramos_por_curso)\n",
    "\n",
    "asignaciones = formar_asignaciones(profesores_por_curso)\n",
    "\n",
    "x = model.addVars(asignaciones,dias,modulos,vtype=GRB.BINARY, name=\"x\")\n",
    "s = model.addVars(asignaciones,dias,vtype=GRB.BINARY, name=\"s\")"
   ]
  },
  {
   "attachments": {},
   "cell_type": "markdown",
   "metadata": {},
   "source": [
    "La clase ocurre en algún momento del horario"
   ]
  },
  {
   "cell_type": "code",
   "execution_count": 57,
   "metadata": {},
   "outputs": [],
   "source": [
    "model.addConstrs((sum(x[c,p,k,d,j] for p,k in profesores_por_curso[c]) == 1 \\\n",
    "    for c in horarios for d in horarios[c] for j in horarios[c][d]),name=\"R1\");"
   ]
  },
  {
   "cell_type": "code",
   "execution_count": 53,
   "metadata": {},
   "outputs": [
    {
     "data": {
      "text/plain": [
       "[1, 2, 3, 4, 5, 6, 7]"
      ]
     },
     "execution_count": 53,
     "metadata": {},
     "output_type": "execute_result"
    }
   ],
   "source": [
    "horarios['1A']['Lunes']"
   ]
  },
  {
   "attachments": {},
   "cell_type": "markdown",
   "metadata": {},
   "source": [
    "Cumplir con la cantidad de clases semanales"
   ]
  },
  {
   "cell_type": "code",
   "execution_count": 54,
   "metadata": {},
   "outputs": [],
   "source": [
    "model.addConstrs((sum(x[c,p,k,d,j] for d in dias for j in modulos) == ramos_por_curso[c][k] \\\n",
    "    for c in horarios for p,k in profesores_por_curso[c]),name=\"R2\");"
   ]
  },
  {
   "attachments": {},
   "cell_type": "markdown",
   "metadata": {},
   "source": [
    "No pasarse del módulo máximo (se asume que los horarios son continuos)"
   ]
  },
  {
   "cell_type": "code",
   "execution_count": 67,
   "metadata": {},
   "outputs": [],
   "source": [
    "model.addConstrs((sum(x[curso,p,k,dia,j] for p,k in profesores_por_curso[curso]) == 0 \\\n",
    "    for curso in horarios for dia in horarios[curso] for j in modulos if j > horarios[curso][dia]),name=\"R3\");"
   ]
  },
  {
   "attachments": {},
   "cell_type": "markdown",
   "metadata": {},
   "source": [
    "Los profesores solo pueden estar en un lugar al mismo tiempo"
   ]
  },
  {
   "cell_type": "code",
   "execution_count": 68,
   "metadata": {},
   "outputs": [],
   "source": [
    "model.addConstrs((sum(x[c,p,k,dia,j] for c,_,k in asignaciones if _ == p) <= 1 \\\n",
    "    for p in profesores for dia in dias for j in modulos), name=\"R4\");"
   ]
  },
  {
   "attachments": {},
   "cell_type": "markdown",
   "metadata": {},
   "source": [
    "Módulos simúltaneos (mismo horario) para dos o más cursos"
   ]
  },
  {
   "cell_type": "code",
   "execution_count": 81,
   "metadata": {},
   "outputs": [],
   "source": [
    "modulos_combinados = [('Educación_Física','7A','7B')]"
   ]
  },
  {
   "cell_type": "code",
   "execution_count": 82,
   "metadata": {},
   "outputs": [
    {
     "ename": "KeyError",
     "evalue": "('7B', 'Yetgmzbj', 'Educación_Física', 'Lunes', 1)",
     "output_type": "error",
     "traceback": [
      "\u001b[1;31m---------------------------------------------------------------------------\u001b[0m",
      "\u001b[1;31mKeyError\u001b[0m                                  Traceback (most recent call last)",
      "\u001b[1;32m~\\AppData\\Local\\Temp/ipykernel_13120/3702987696.py\u001b[0m in \u001b[0;36m<module>\u001b[1;34m\u001b[0m\n\u001b[1;32m----> 1\u001b[1;33m \u001b[0mmodel\u001b[0m\u001b[1;33m.\u001b[0m\u001b[0maddConstrs\u001b[0m\u001b[1;33m(\u001b[0m\u001b[0mx\u001b[0m\u001b[1;33m[\u001b[0m\u001b[0mc\u001b[0m\u001b[1;33m,\u001b[0m\u001b[0mp\u001b[0m\u001b[1;33m,\u001b[0m\u001b[0mk\u001b[0m\u001b[1;33m,\u001b[0m\u001b[0mdia\u001b[0m\u001b[1;33m,\u001b[0m\u001b[0mj\u001b[0m\u001b[1;33m]\u001b[0m \u001b[1;33m-\u001b[0m \u001b[0mx\u001b[0m\u001b[1;33m[\u001b[0m\u001b[0mc2\u001b[0m\u001b[1;33m,\u001b[0m\u001b[0mp\u001b[0m\u001b[1;33m,\u001b[0m\u001b[0mk\u001b[0m\u001b[1;33m,\u001b[0m\u001b[0mdia\u001b[0m\u001b[1;33m,\u001b[0m\u001b[0mj\u001b[0m\u001b[1;33m]\u001b[0m \u001b[1;33m==\u001b[0m \u001b[1;36m0\u001b[0m \u001b[1;32mfor\u001b[0m \u001b[0mk\u001b[0m\u001b[1;33m,\u001b[0m\u001b[0mc\u001b[0m\u001b[1;33m,\u001b[0m\u001b[0mc2\u001b[0m \u001b[1;32min\u001b[0m \u001b[0mmodulos_combinados\u001b[0m \u001b[1;32mfor\u001b[0m \u001b[0mp\u001b[0m \u001b[1;32min\u001b[0m \u001b[0mprofesores\u001b[0m \u001b[1;32mif\u001b[0m \u001b[1;33m(\u001b[0m\u001b[0mp\u001b[0m\u001b[1;33m,\u001b[0m\u001b[0mk\u001b[0m\u001b[1;33m)\u001b[0m \u001b[1;32min\u001b[0m \u001b[0mprofesores_por_curso\u001b[0m\u001b[1;33m[\u001b[0m\u001b[0mc\u001b[0m\u001b[1;33m]\u001b[0m \u001b[1;32mfor\u001b[0m \u001b[0mdia\u001b[0m \u001b[1;32min\u001b[0m \u001b[0mdias\u001b[0m \u001b[1;32mfor\u001b[0m \u001b[0mj\u001b[0m \u001b[1;32min\u001b[0m \u001b[0mmodulos\u001b[0m\u001b[1;33m)\u001b[0m\u001b[1;33m\u001b[0m\u001b[1;33m\u001b[0m\u001b[0m\n\u001b[0m",
      "\u001b[1;32msrc\\gurobipy\\model.pxi\u001b[0m in \u001b[0;36mgurobipy.Model.addConstrs\u001b[1;34m()\u001b[0m\n",
      "\u001b[1;32m~\\AppData\\Local\\Temp/ipykernel_13120/3702987696.py\u001b[0m in \u001b[0;36m<genexpr>\u001b[1;34m(.0)\u001b[0m\n\u001b[1;32m----> 1\u001b[1;33m \u001b[0mmodel\u001b[0m\u001b[1;33m.\u001b[0m\u001b[0maddConstrs\u001b[0m\u001b[1;33m(\u001b[0m\u001b[0mx\u001b[0m\u001b[1;33m[\u001b[0m\u001b[0mc\u001b[0m\u001b[1;33m,\u001b[0m\u001b[0mp\u001b[0m\u001b[1;33m,\u001b[0m\u001b[0mk\u001b[0m\u001b[1;33m,\u001b[0m\u001b[0mdia\u001b[0m\u001b[1;33m,\u001b[0m\u001b[0mj\u001b[0m\u001b[1;33m]\u001b[0m \u001b[1;33m-\u001b[0m \u001b[0mx\u001b[0m\u001b[1;33m[\u001b[0m\u001b[0mc2\u001b[0m\u001b[1;33m,\u001b[0m\u001b[0mp\u001b[0m\u001b[1;33m,\u001b[0m\u001b[0mk\u001b[0m\u001b[1;33m,\u001b[0m\u001b[0mdia\u001b[0m\u001b[1;33m,\u001b[0m\u001b[0mj\u001b[0m\u001b[1;33m]\u001b[0m \u001b[1;33m==\u001b[0m \u001b[1;36m0\u001b[0m \u001b[1;32mfor\u001b[0m \u001b[0mk\u001b[0m\u001b[1;33m,\u001b[0m\u001b[0mc\u001b[0m\u001b[1;33m,\u001b[0m\u001b[0mc2\u001b[0m \u001b[1;32min\u001b[0m \u001b[0mmodulos_combinados\u001b[0m \u001b[1;32mfor\u001b[0m \u001b[0mp\u001b[0m \u001b[1;32min\u001b[0m \u001b[0mprofesores\u001b[0m \u001b[1;32mif\u001b[0m \u001b[1;33m(\u001b[0m\u001b[0mp\u001b[0m\u001b[1;33m,\u001b[0m\u001b[0mk\u001b[0m\u001b[1;33m)\u001b[0m \u001b[1;32min\u001b[0m \u001b[0mprofesores_por_curso\u001b[0m\u001b[1;33m[\u001b[0m\u001b[0mc\u001b[0m\u001b[1;33m]\u001b[0m \u001b[1;32mfor\u001b[0m \u001b[0mdia\u001b[0m \u001b[1;32min\u001b[0m \u001b[0mdias\u001b[0m \u001b[1;32mfor\u001b[0m \u001b[0mj\u001b[0m \u001b[1;32min\u001b[0m \u001b[0mmodulos\u001b[0m\u001b[1;33m)\u001b[0m\u001b[1;33m\u001b[0m\u001b[1;33m\u001b[0m\u001b[0m\n\u001b[0m",
      "\u001b[1;31mKeyError\u001b[0m: ('7B', 'Yetgmzbj', 'Educación_Física', 'Lunes', 1)"
     ]
    }
   ],
   "source": [
    "model.addConstrs(x[c,p,k,dia,j] - x[c2,p,k,dia,j] == 0 for k,c,c2 in modulos_combinados for p in profesores if (p,k) in profesores_por_curso[c] for dia in dias for j in modulos)"
   ]
  },
  {
   "attachments": {},
   "cell_type": "markdown",
   "metadata": {},
   "source": [
    "Módulos de clases seguidos"
   ]
  },
  {
   "cell_type": "code",
   "execution_count": 69,
   "metadata": {},
   "outputs": [],
   "source": [
    "model.addConstrs(sum(x[curso,p,k,dia,j] for j in modulos) <= 2 for dia in dias for curso in horarios for p,k in profesores_por_curso[curso]);"
   ]
  },
  {
   "cell_type": "code",
   "execution_count": 70,
   "metadata": {},
   "outputs": [],
   "source": [
    "model.addConstrs(x[c,p,k,dia,j] + x[c,p,k,dia,z] <= 1 for c,p,k in asignaciones for dia in dias for j,z in list(set([(a+1,b+1) for a in range(horarios[c][dia]) for b in range(horarios[c][dia]) if a < b]) - set(combinaciones)));"
   ]
  },
  {
   "cell_type": "code",
   "execution_count": 71,
   "metadata": {},
   "outputs": [],
   "source": [
    "model.addConstrs((M * s[c,p,k,d] >= sum(x[c,p,k,d,j] for j in modulos) for c,p,k in asignaciones for d in dias),name=\"RS1\");"
   ]
  },
  {
   "cell_type": "code",
   "execution_count": 72,
   "metadata": {},
   "outputs": [],
   "source": [
    "model.addConstrs((sum(s[curso,p,k,d] for d in dias) <= math.ceil(ramos_por_curso[curso][k] / 2) for curso in horarios for p,k in profesores_por_curso[curso] if k in ramos_con_modulos_seguidos),name=\"RS2\");"
   ]
  },
  {
   "cell_type": "code",
   "execution_count": 55,
   "metadata": {},
   "outputs": [
    {
     "name": "stdout",
     "output_type": "stream",
     "text": [
      "Gurobi Optimizer version 9.5.1 build v9.5.1rc2 (win64)\n",
      "Thread count: 4 physical cores, 8 logical processors, using up to 8 threads\n",
      "Optimize a model with 190 rows, 1900 columns and 3154 nonzeros\n",
      "Model fingerprint: 0x48fb0ac5\n",
      "Variable types: 0 continuous, 1900 integer (1900 binary)\n",
      "Coefficient statistics:\n",
      "  Matrix range     [1e+00, 1e+00]\n",
      "  Objective range  [0e+00, 0e+00]\n",
      "  Bounds range     [1e+00, 1e+00]\n",
      "  RHS range        [1e+00, 8e+00]\n",
      "Presolve removed 0 rows and 452 columns\n",
      "Presolve time: 0.01s\n",
      "Presolved: 190 rows, 1448 columns, 2892 nonzeros\n",
      "Variable types: 0 continuous, 1448 integer (1444 binary)\n",
      "\n",
      "Root relaxation: infeasible, 234 iterations, 0.00 seconds (0.00 work units)\n",
      "\n",
      "    Nodes    |    Current Node    |     Objective Bounds      |     Work\n",
      " Expl Unexpl |  Obj  Depth IntInf | Incumbent    BestBd   Gap | It/Node Time\n",
      "\n",
      "     0     0 infeasible    0               - infeasible      -     -    0s\n",
      "\n",
      "Explored 1 nodes (234 simplex iterations) in 0.02 seconds (0.01 work units)\n",
      "Thread count was 8 (of 8 available processors)\n",
      "\n",
      "Solution count 0\n",
      "\n",
      "Model is infeasible\n",
      "Best objective -, best bound -, gap -\n"
     ]
    },
    {
     "ename": "GurobiError",
     "evalue": "Unable to retrieve attribute 'X'",
     "output_type": "error",
     "traceback": [
      "\u001b[1;31m---------------------------------------------------------------------------\u001b[0m",
      "\u001b[1;31mGurobiError\u001b[0m                               Traceback (most recent call last)",
      "\u001b[1;32m~\\AppData\\Local\\Temp/ipykernel_26616/396622029.py\u001b[0m in \u001b[0;36m<module>\u001b[1;34m\u001b[0m\n\u001b[0;32m     14\u001b[0m \u001b[0mmodel\u001b[0m\u001b[1;33m.\u001b[0m\u001b[0mupdate\u001b[0m\u001b[1;33m(\u001b[0m\u001b[1;33m)\u001b[0m\u001b[1;33m\u001b[0m\u001b[1;33m\u001b[0m\u001b[0m\n\u001b[0;32m     15\u001b[0m \u001b[0mmodel\u001b[0m\u001b[1;33m.\u001b[0m\u001b[0moptimize\u001b[0m\u001b[1;33m(\u001b[0m\u001b[1;33m)\u001b[0m\u001b[1;33m\u001b[0m\u001b[1;33m\u001b[0m\u001b[0m\n\u001b[1;32m---> 16\u001b[1;33m \u001b[0mmodel\u001b[0m\u001b[1;33m.\u001b[0m\u001b[0mwrite\u001b[0m\u001b[1;33m(\u001b[0m\u001b[1;34m'out.sol'\u001b[0m\u001b[1;33m)\u001b[0m\u001b[1;33m\u001b[0m\u001b[1;33m\u001b[0m\u001b[0m\n\u001b[0m",
      "\u001b[1;32msrc\\gurobipy\\model.pxi\u001b[0m in \u001b[0;36mgurobipy.Model.write\u001b[1;34m()\u001b[0m\n",
      "\u001b[1;31mGurobiError\u001b[0m: Unable to retrieve attribute 'X'"
     ]
    }
   ],
   "source": [
    "model.setObjective(0, GRB.MINIMIZE)\n",
    "\n",
    "model.write('model.lp')\n",
    "\n",
    "# model.computeIIS()\n",
    "# removed =[]\n",
    "# for c in model.getConstrs():\n",
    "#     if c.IISConstr:\n",
    "#         print('%s' % c.constrName)\n",
    "#         # Remove a single constraint from the model\n",
    "#         removed.append(str(c.constrName))\n",
    "#         model.remove(c)\n",
    "\n",
    "model.update()\n",
    "model.optimize()\n",
    "model.write('out.sol')"
   ]
  },
  {
   "cell_type": "code",
   "execution_count": 78,
   "metadata": {},
   "outputs": [
    {
     "name": "stdout",
     "output_type": "stream",
     "text": [
      "Horario del curso 8B: \n"
     ]
    },
    {
     "data": {
      "text/html": [
       "<table frame=\"box\" rules=\"cols\">\n",
       "    <thead>\n",
       "        <tr>\n",
       "            <th style=\"padding-left: 1em; padding-right: 1em; text-align: center\"></th>\n",
       "            <th style=\"padding-left: 1em; padding-right: 1em; text-align: center\">Lunes</th>\n",
       "            <th style=\"padding-left: 1em; padding-right: 1em; text-align: center\">Martes</th>\n",
       "            <th style=\"padding-left: 1em; padding-right: 1em; text-align: center\">Miércoles</th>\n",
       "            <th style=\"padding-left: 1em; padding-right: 1em; text-align: center\">Jueves</th>\n",
       "            <th style=\"padding-left: 1em; padding-right: 1em; text-align: center\">Viernes</th>\n",
       "        </tr>\n",
       "    </thead>\n",
       "    <tbody>\n",
       "        <tr>\n",
       "            <td style=\"padding-left: 1em; padding-right: 1em; text-align: center; vertical-align: top\">1</td>\n",
       "            <td style=\"padding-left: 1em; padding-right: 1em; text-align: center; vertical-align: top\">Tecnología <br> Ckoktevz</td>\n",
       "            <td style=\"padding-left: 1em; padding-right: 1em; text-align: center; vertical-align: top\">Lenguaje <br> Mgqrxqls</td>\n",
       "            <td style=\"padding-left: 1em; padding-right: 1em; text-align: center; vertical-align: top\">Historia <br> Vcbrisrz</td>\n",
       "            <td style=\"padding-left: 1em; padding-right: 1em; text-align: center; vertical-align: top\">Historia <br> Vcbrisrz</td>\n",
       "            <td style=\"padding-left: 1em; padding-right: 1em; text-align: center; vertical-align: top\">Historia <br> Vcbrisrz</td>\n",
       "        </tr>\n",
       "        <tr>\n",
       "            <td style=\"padding-left: 1em; padding-right: 1em; text-align: center; vertical-align: top\">2</td>\n",
       "            <td style=\"padding-left: 1em; padding-right: 1em; text-align: center; vertical-align: top\">Lenguaje <br> Mgqrxqls</td>\n",
       "            <td style=\"padding-left: 1em; padding-right: 1em; text-align: center; vertical-align: top\">Historia <br> Vcbrisrz</td>\n",
       "            <td style=\"padding-left: 1em; padding-right: 1em; text-align: center; vertical-align: top\">Historia <br> Vcbrisrz</td>\n",
       "            <td style=\"padding-left: 1em; padding-right: 1em; text-align: center; vertical-align: top\">Educación Física <br> Glhloygt</td>\n",
       "            <td style=\"padding-left: 1em; padding-right: 1em; text-align: center; vertical-align: top\">Inglés <br> Viguszyr</td>\n",
       "        </tr>\n",
       "        <tr>\n",
       "            <td style=\"padding-left: 1em; padding-right: 1em; text-align: center; vertical-align: top\">3</td>\n",
       "            <td style=\"padding-left: 1em; padding-right: 1em; text-align: center; vertical-align: top\">Religión <br> Parbuqwm</td>\n",
       "            <td style=\"padding-left: 1em; padding-right: 1em; text-align: center; vertical-align: top\">Historia <br> Vcbrisrz</td>\n",
       "            <td style=\"padding-left: 1em; padding-right: 1em; text-align: center; vertical-align: top\">Matemáticas <br> Sschojjc</td>\n",
       "            <td style=\"padding-left: 1em; padding-right: 1em; text-align: center; vertical-align: top\">Educación Física <br> Glhloygt</td>\n",
       "            <td style=\"padding-left: 1em; padding-right: 1em; text-align: center; vertical-align: top\">Inglés <br> Viguszyr</td>\n",
       "        </tr>\n",
       "        <tr>\n",
       "            <td style=\"padding-left: 1em; padding-right: 1em; text-align: center; vertical-align: top\">4</td>\n",
       "            <td style=\"padding-left: 1em; padding-right: 1em; text-align: center; vertical-align: top\">Historia <br> Vcbrisrz</td>\n",
       "            <td style=\"padding-left: 1em; padding-right: 1em; text-align: center; vertical-align: top\">Matemáticas <br> Sschojjc</td>\n",
       "            <td style=\"padding-left: 1em; padding-right: 1em; text-align: center; vertical-align: top\">Inglés <br> Viguszyr</td>\n",
       "            <td style=\"padding-left: 1em; padding-right: 1em; text-align: center; vertical-align: top\">Lenguaje <br> Mgqrxqls</td>\n",
       "            <td style=\"padding-left: 1em; padding-right: 1em; text-align: center; vertical-align: top\">Matemáticas <br> Sschojjc</td>\n",
       "        </tr>\n",
       "        <tr>\n",
       "            <td style=\"padding-left: 1em; padding-right: 1em; text-align: center; vertical-align: top\">5</td>\n",
       "            <td style=\"padding-left: 1em; padding-right: 1em; text-align: center; vertical-align: top\">Inglés <br> Viguszyr</td>\n",
       "            <td style=\"padding-left: 1em; padding-right: 1em; text-align: center; vertical-align: top\">Matemáticas <br> Sschojjc</td>\n",
       "            <td style=\"padding-left: 1em; padding-right: 1em; text-align: center; vertical-align: top\">Tecnología <br> Ckoktevz</td>\n",
       "            <td style=\"padding-left: 1em; padding-right: 1em; text-align: center; vertical-align: top\">Matemáticas <br> Sschojjc</td>\n",
       "            <td style=\"padding-left: 1em; padding-right: 1em; text-align: center; vertical-align: top\">Matemáticas <br> Sschojjc</td>\n",
       "        </tr>\n",
       "        <tr>\n",
       "            <td style=\"padding-left: 1em; padding-right: 1em; text-align: center; vertical-align: top\">6</td>\n",
       "            <td style=\"padding-left: 1em; padding-right: 1em; text-align: center; vertical-align: top\">Artes Visuales <br> Cwqcwpow</td>\n",
       "            <td style=\"padding-left: 1em; padding-right: 1em; text-align: center; vertical-align: top\">Ciencias Naturales <br> Hqjqwicc</td>\n",
       "            <td style=\"padding-left: 1em; padding-right: 1em; text-align: center; vertical-align: top\">Ciencias Naturales <br> Hqjqwicc</td>\n",
       "            <td style=\"padding-left: 1em; padding-right: 1em; text-align: center; vertical-align: top\">Orientación <br> Gbqpuktt</td>\n",
       "            <td style=\"padding-left: 1em; padding-right: 1em; text-align: center; vertical-align: top\">Lenguaje <br> Mgqrxqls</td>\n",
       "        </tr>\n",
       "        <tr>\n",
       "            <td style=\"padding-left: 1em; padding-right: 1em; text-align: center; vertical-align: top\">7</td>\n",
       "            <td style=\"padding-left: 1em; padding-right: 1em; text-align: center; vertical-align: top\">Artes Visuales <br> Cwqcwpow</td>\n",
       "            <td style=\"padding-left: 1em; padding-right: 1em; text-align: center; vertical-align: top\">Ciencias Naturales <br> Hqjqwicc</td>\n",
       "            <td style=\"padding-left: 1em; padding-right: 1em; text-align: center; vertical-align: top\">Ciencias Naturales <br> Hqjqwicc</td>\n",
       "            <td style=\"padding-left: 1em; padding-right: 1em; text-align: center; vertical-align: top\">Música <br> Nzfcxjga</td>\n",
       "            <td style=\"padding-left: 1em; padding-right: 1em; text-align: center; vertical-align: top\">Lenguaje <br> Mgqrxqls</td>\n",
       "        </tr>\n",
       "        <tr>\n",
       "            <td style=\"padding-left: 1em; padding-right: 1em; text-align: center; vertical-align: top\">8</td>\n",
       "            <td style=\"padding-left: 1em; padding-right: 1em; text-align: center; vertical-align: top\"></td>\n",
       "            <td style=\"padding-left: 1em; padding-right: 1em; text-align: center; vertical-align: top\">Religión <br> Parbuqwm</td>\n",
       "            <td style=\"padding-left: 1em; padding-right: 1em; text-align: center; vertical-align: top\">Lenguaje <br> Mgqrxqls</td>\n",
       "            <td style=\"padding-left: 1em; padding-right: 1em; text-align: center; vertical-align: top\">Ciencias Naturales <br> Hqjqwicc</td>\n",
       "            <td style=\"padding-left: 1em; padding-right: 1em; text-align: center; vertical-align: top\"></td>\n",
       "        </tr>\n",
       "    </tbody>\n",
       "</table>"
      ],
      "text/plain": [
       "+---+-----------------+---------------------+---------------------+---------------------+--------------+\n",
       "|   |      Lunes      |        Martes       |      Miércoles      |        Jueves       |   Viernes    |\n",
       "+---+-----------------+---------------------+---------------------+---------------------+--------------+\n",
       "| 1 |   Tecnología    |      Lenguaje       |      Historia       |      Historia       |  Historia    |\n",
       "|   |     Ckoktevz    |       Mgqrxqls      |       Vcbrisrz      |       Vcbrisrz      |   Vcbrisrz   |\n",
       "| 2 |    Lenguaje     |      Historia       |      Historia       |  Educación Física   |   Inglés     |\n",
       "|   |     Mgqrxqls    |       Vcbrisrz      |       Vcbrisrz      |       Glhloygt      |   Viguszyr   |\n",
       "| 3 |    Religión     |      Historia       |     Matemáticas     |  Educación Física   |   Inglés     |\n",
       "|   |     Parbuqwm    |       Vcbrisrz      |       Sschojjc      |       Glhloygt      |   Viguszyr   |\n",
       "| 4 |    Historia     |     Matemáticas     |       Inglés        |      Lenguaje       | Matemáticas  |\n",
       "|   |     Vcbrisrz    |       Sschojjc      |       Viguszyr      |       Mgqrxqls      |   Sschojjc   |\n",
       "| 5 |     Inglés      |     Matemáticas     |     Tecnología      |     Matemáticas     | Matemáticas  |\n",
       "|   |     Viguszyr    |       Sschojjc      |       Ckoktevz      |       Sschojjc      |   Sschojjc   |\n",
       "| 6 | Artes Visuales  | Ciencias Naturales  | Ciencias Naturales  |     Orientación     |  Lenguaje    |\n",
       "|   |     Cwqcwpow    |       Hqjqwicc      |       Hqjqwicc      |       Gbqpuktt      |   Mgqrxqls   |\n",
       "| 7 | Artes Visuales  | Ciencias Naturales  | Ciencias Naturales  |       Música        |  Lenguaje    |\n",
       "|   |     Cwqcwpow    |       Hqjqwicc      |       Hqjqwicc      |       Nzfcxjga      |   Mgqrxqls   |\n",
       "| 8 |                 |      Religión       |      Lenguaje       | Ciencias Naturales  |              |\n",
       "|   |                 |       Parbuqwm      |       Mgqrxqls      |       Hqjqwicc      |              |\n",
       "+---+-----------------+---------------------+---------------------+---------------------+--------------+"
      ]
     },
     "execution_count": 78,
     "metadata": {},
     "output_type": "execute_result"
    }
   ],
   "source": [
    "def leer_output():\n",
    "    lista_final = []\n",
    "    with open('out.sol', 'r') as file:\n",
    "        lines = file.readlines()\n",
    "        for line in lines:\n",
    "            if line[-2] == '1':\n",
    "                line = line.strip('\\n')\n",
    "                lista_final.append(line)\n",
    "    # print(lista_final)\n",
    "    diccionario_dias = {\n",
    "        'Lunes': 1,\n",
    "        'Martes': 2,\n",
    "        'Miércoles': 3,\n",
    "        'Jueves': 4,\n",
    "        'Viernes': 5\n",
    "    }\n",
    "\n",
    "    vuelta = {\n",
    "        1: 'Lunes',\n",
    "        2: 'Martes',\n",
    "        3: 'Miércoles',\n",
    "        4: 'Jueves',\n",
    "        5: 'Viernes'\n",
    "    }\n",
    "\n",
    "    profesores_final = []\n",
    "    for elem in lista_final:\n",
    "        if elem[0] == \"x\":\n",
    "            elem = elem[2:-3]\n",
    "            elem = elem.split(',')\n",
    "            profesores_final.append(elem)\n",
    "    for i in range(len(profesores_final)):\n",
    "        profesores_final[i][3] = diccionario_dias[profesores_final[i][3]]\n",
    "    profesores_final = sorted(profesores_final, key= lambda x: x[4])\n",
    "    profesores_final = sorted(profesores_final, key= lambda x: x[3])\n",
    "    profesores_final = sorted(profesores_final, key= lambda x: x[0])\n",
    "\n",
    "    for i in range(len(profesores_final)):\n",
    "        profesores_final[i][3] = vuelta[profesores_final[i][3]]\n",
    "    return profesores_final\n",
    "\n",
    "def generar_horario(curso):\n",
    "\n",
    "    clases_curso = []\n",
    "    dias_semana = []\n",
    "    ultimo_dia = None\n",
    "    horario = PrettyTable(dias_semana)\n",
    "    lista_auxiliar = []\n",
    "    lista_dia = None\n",
    "    for elem in leer_output():    \n",
    "        if elem[0] == curso:\n",
    "            clases_curso.append([elem[2], elem[3], elem[4], elem[1]])\n",
    "            if elem[3] not in dias_semana:\n",
    "                dias_semana.append(elem[3])\n",
    "            if elem[3] != ultimo_dia:\n",
    "                lista_auxiliar.append(lista_dia)\n",
    "                lista_dia = []\n",
    "                ultimo_dia = elem[3]\n",
    "                lista_dia.append(ultimo_dia)\n",
    "                elem[2] = elem[2].replace('_', ' ')\n",
    "                elem[1] = elem[1].replace('_', ' ')\n",
    "                lista_dia.append(f'{elem[2]} \\n {elem[1]}')\n",
    "            else:\n",
    "                elem[2] = elem[2].replace('_', ' ')\n",
    "                elem[1] = elem[1].replace('_', ' ')\n",
    "                lista_dia.append(f'{elem[2]} \\n {elem[1]}')\n",
    "\n",
    "    lista_auxiliar.append(lista_dia)\n",
    "    lista_auxiliar = lista_auxiliar[1:]\n",
    "    len_maxima = 0\n",
    "    for dia in lista_auxiliar:\n",
    "        if len(dia) > len_maxima:\n",
    "            len_maxima = len(dia)\n",
    "\n",
    "    horario.add_column('', [i+1 for i in range(len_maxima - 1)])\n",
    "\n",
    "    for i in range(len(lista_auxiliar)):\n",
    "        for j in range(len_maxima - len(lista_auxiliar[i])):\n",
    "            lista_auxiliar[i].append('')\n",
    "        horario.add_column(lista_auxiliar[i][0], lista_auxiliar[i][1:], align='c')\n",
    "    horario.format = True   \n",
    "    print(f'Horario del curso {curso}: ')   \n",
    "    return horario\n",
    "\n",
    "curso = '8B'\n",
    "generar_horario(curso)"
   ]
  },
  {
   "cell_type": "code",
   "execution_count": 75,
   "metadata": {},
   "outputs": [
    {
     "data": {
      "text/plain": [
       "1.0"
      ]
     },
     "execution_count": 75,
     "metadata": {},
     "output_type": "execute_result"
    }
   ],
   "source": [
    "1/3 + 1/3 + 1/3"
   ]
  }
 ],
 "metadata": {
  "kernelspec": {
   "display_name": "Python 3",
   "language": "python",
   "name": "python3"
  },
  "language_info": {
   "codemirror_mode": {
    "name": "ipython",
    "version": 3
   },
   "file_extension": ".py",
   "mimetype": "text/x-python",
   "name": "python",
   "nbconvert_exporter": "python",
   "pygments_lexer": "ipython3",
   "version": "3.8.10 (tags/v3.8.10:3d8993a, May  3 2021, 11:48:03) [MSC v.1928 64 bit (AMD64)]"
  },
  "orig_nbformat": 4,
  "vscode": {
   "interpreter": {
    "hash": "be96e54ac1641eb6b0b6e091bda5f4569f87f77d93d2c1fb370b248d11e29b0c"
   }
  }
 },
 "nbformat": 4,
 "nbformat_minor": 2
}
