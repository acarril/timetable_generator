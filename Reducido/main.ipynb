{
 "cells": [
  {
   "attachments": {},
   "cell_type": "markdown",
   "metadata": {},
   "source": [
    "A priori es probable que se sepa qué profesores harán cada clase para cada curso. Esto reduce considerablemente el tamaño del problema, por lo que tiene sentido armar un modelo reducido que considere esto."
   ]
  },
  {
   "cell_type": "code",
   "execution_count": 466,
   "metadata": {},
   "outputs": [],
   "source": [
    "import gurobipy as gp\n",
    "from gurobipy import GRB\n",
    "from operator import itemgetter\n",
    "import itertools\n",
    "import math\n",
    "import numpy as np \n",
    "import json\n",
    "from prettytable import PrettyTable\n",
    "\n",
    "\n",
    "class MultiDimensionalArrayEncoder(json.JSONEncoder):\n",
    "    def encode(self, obj):\n",
    "        def hint_tuples(item):\n",
    "            if isinstance(item, tuple):\n",
    "                return {'__tuple__': True, 'items': item}\n",
    "            if isinstance(item, list):\n",
    "                return [hint_tuples(e) for e in item]\n",
    "            if isinstance(item, dict):\n",
    "                return {key: hint_tuples(value) for key, value in item.items()}\n",
    "            else:\n",
    "                return item\n",
    "\n",
    "        return super(MultiDimensionalArrayEncoder, self).encode(hint_tuples(obj))\n",
    "def hinted_tuple_hook(obj):\n",
    "    if '__tuple__' in obj:\n",
    "        return tuple(obj['items'])\n",
    "    else:\n",
    "        return obj\n",
    "enc = MultiDimensionalArrayEncoder()"
   ]
  },
  {
   "cell_type": "code",
   "execution_count": 467,
   "metadata": {},
   "outputs": [],
   "source": [
    "def formar_asignaciones(profesores_por_curso: dict):\n",
    "    lista_asignaciones = []\n",
    "    for curso in profesores_por_curso:\n",
    "        for tupla in profesores_por_curso[curso]:\n",
    "            lista_asignaciones.append((curso[:-1], curso[-1], tupla[0], tupla[1], ))\n",
    "    return lista_asignaciones "
   ]
  },
  {
   "cell_type": "code",
   "execution_count": 468,
   "metadata": {},
   "outputs": [],
   "source": [
    "model = gp.Model(\"Generación de horarios de colegio\")\n",
    "# model.setParam('OutputFlag', 1)\n",
    "f = open('parametros.json',encoding='utf8')\n",
    "\n",
    "M = 10000\n",
    "data = json.load(f, object_hook=hinted_tuple_hook)\n",
    "dias = data['dias']\n",
    "modulos = data['modulos']\n",
    "ramos_con_modulos_seguidos = data['ramos_con_modulos_seguidos']\n",
    "combinaciones = data['combinaciones']\n",
    "horarios = data['horarios']\n",
    "profesores_por_curso = data['profesores_por_curso']\n",
    "ramos_por_curso = data['ramos_por_curso']\n",
    "profesores = data['profesores']\n",
    "asignaciones = formar_asignaciones(profesores_por_curso)\n",
    "\n",
    "x = model.addVars(asignaciones,dias,modulos,vtype=GRB.BINARY, name=\"x\")\n",
    "s = model.addVars(asignaciones,dias,vtype=GRB.BINARY, name=\"s\")"
   ]
  },
  {
   "attachments": {},
   "cell_type": "markdown",
   "metadata": {},
   "source": [
    "El profesor asignado hace la clase en algún momento"
   ]
  },
  {
   "cell_type": "code",
   "execution_count": 469,
   "metadata": {},
   "outputs": [],
   "source": [
    "model.addConstrs((sum(x[curso[:-1],curso[-1],p,k,dia,modulo+1] for p,k in profesores_por_curso[curso]) == 1 \\\n",
    "    for curso in horarios for dia in horarios[curso] for modulo in range(horarios[curso][dia])),name=\"R1\");"
   ]
  },
  {
   "attachments": {},
   "cell_type": "markdown",
   "metadata": {},
   "source": [
    "Cumplir con la cantidad de clases semanales"
   ]
  },
  {
   "cell_type": "code",
   "execution_count": 470,
   "metadata": {},
   "outputs": [],
   "source": [
    "model.addConstrs((sum(x[curso[:-1],curso[-1],p,k,dia,j] for dia in dias for j in modulos) == ramos_por_curso[curso][k] \\\n",
    "    for curso in horarios for p,k in profesores_por_curso[curso]),name=\"R2\");"
   ]
  },
  {
   "attachments": {},
   "cell_type": "markdown",
   "metadata": {},
   "source": [
    "No pasarse del módulo máximo (se asume que los horarios son continuos)"
   ]
  },
  {
   "cell_type": "code",
   "execution_count": 471,
   "metadata": {},
   "outputs": [],
   "source": [
    "model.addConstrs((sum(x[curso[:-1],curso[-1],p,k,dia,j] for p,k in profesores_por_curso[curso]) == 0 \\\n",
    "    for curso in horarios for dia in horarios[curso] for j in modulos if j > horarios[curso][dia]),name=\"R3\");"
   ]
  },
  {
   "attachments": {},
   "cell_type": "markdown",
   "metadata": {},
   "source": [
    "Los profesores solo pueden estar en un lugar al mismo tiempo"
   ]
  },
  {
   "cell_type": "code",
   "execution_count": 472,
   "metadata": {},
   "outputs": [],
   "source": [
    "model.addConstrs((sum(x[i,c,p,k,dia,j] for i,c,_,k in asignaciones if _ == p) <= 1 \\\n",
    "    for p in profesores for dia in dias for j in modulos), name=\"R4\");"
   ]
  },
  {
   "attachments": {},
   "cell_type": "markdown",
   "metadata": {},
   "source": [
    "Módulos de clases seguidos"
   ]
  },
  {
   "cell_type": "code",
   "execution_count": 473,
   "metadata": {},
   "outputs": [],
   "source": [
    "model.addConstrs(sum(x[curso[:-1],curso[-1],p,k,dia,j] for j in modulos) <= 2 for dia in dias for curso in horarios for p,k in profesores_por_curso[curso]);"
   ]
  },
  {
   "cell_type": "code",
   "execution_count": 474,
   "metadata": {},
   "outputs": [],
   "source": [
    "model.addConstrs(x[i,c,p,k,dia,j] + x[i,c,p,k,dia,z] <= 1 for i,c,p,k in asignaciones for dia in dias for j,z in list(set([(a+1,b+1) for a in range(horarios[i+c][dia]) for b in range(horarios[i+c][dia]) if a < b]) - set(combinaciones)));"
   ]
  },
  {
   "cell_type": "code",
   "execution_count": 475,
   "metadata": {},
   "outputs": [],
   "source": [
    "model.addConstrs((M * s[i,c,p,k,d] >= sum(x[i,c,p,k,d,j] for j in modulos) for i,c,p,k in asignaciones for d in dias),name=\"RS1\");"
   ]
  },
  {
   "cell_type": "code",
   "execution_count": 476,
   "metadata": {},
   "outputs": [],
   "source": [
    "model.addConstrs((sum(s[curso[:-1],curso[-1],p,k,d] for d in dias) <= math.ceil(ramos_por_curso[curso][k] / 2) for curso in horarios for p,k in profesores_por_curso[curso] if k in ramos_con_modulos_seguidos),name=\"RS2\");"
   ]
  },
  {
   "cell_type": "code",
   "execution_count": 477,
   "metadata": {},
   "outputs": [
    {
     "name": "stdout",
     "output_type": "stream",
     "text": [
      "Gurobi Optimizer version 9.5.1 build v9.5.1rc2 (win64)\n",
      "Thread count: 4 physical cores, 8 logical processors, using up to 8 threads\n",
      "Optimize a model with 3698 rows, 2000 columns and 14840 nonzeros\n",
      "Model fingerprint: 0xee41cc8f\n",
      "Variable types: 0 continuous, 2000 integer (2000 binary)\n",
      "Coefficient statistics:\n",
      "  Matrix range     [1e+00, 1e+04]\n",
      "  Objective range  [0e+00, 0e+00]\n",
      "  Bounds range     [1e+00, 1e+00]\n",
      "  RHS range        [1e+00, 8e+00]\n",
      "Presolve removed 3140 rows and 1364 columns\n",
      "Presolve time: 0.06s\n",
      "Presolved: 558 rows, 636 columns, 3388 nonzeros\n",
      "Variable types: 0 continuous, 636 integer (636 binary)\n",
      "\n",
      "Root relaxation: objective 0.000000e+00, 378 iterations, 0.01 seconds (0.00 work units)\n",
      "\n",
      "    Nodes    |    Current Node    |     Objective Bounds      |     Work\n",
      " Expl Unexpl |  Obj  Depth IntInf | Incumbent    BestBd   Gap | It/Node Time\n",
      "\n",
      "*    0     0               0       0.0000000    0.00000  0.00%     -    0s\n",
      "\n",
      "Explored 1 nodes (964 simplex iterations) in 0.09 seconds (0.06 work units)\n",
      "Thread count was 8 (of 8 available processors)\n",
      "\n",
      "Solution count 1: 0 \n",
      "\n",
      "Optimal solution found (tolerance 1.00e-04)\n",
      "Best objective 0.000000000000e+00, best bound 0.000000000000e+00, gap 0.0000%\n"
     ]
    }
   ],
   "source": [
    "model.setObjective(0, GRB.MINIMIZE)\n",
    "\n",
    "model.write('model.lp')\n",
    "\n",
    "# model.computeIIS()\n",
    "# removed =[]\n",
    "# for c in model.getConstrs():\n",
    "#     if c.IISConstr:\n",
    "#         print('%s' % c.constrName)\n",
    "#         # Remove a single constraint from the model\n",
    "#         removed.append(str(c.constrName))\n",
    "#         model.remove(c)\n",
    "\n",
    "model.update()\n",
    "model.optimize()\n",
    "model.write('out.sol')"
   ]
  },
  {
   "cell_type": "code",
   "execution_count": 478,
   "metadata": {},
   "outputs": [
    {
     "name": "stdout",
     "output_type": "stream",
     "text": [
      "Horario del curso 1A: \n"
     ]
    },
    {
     "data": {
      "text/html": [
       "<table frame=\"box\" rules=\"cols\">\n",
       "    <thead>\n",
       "        <tr>\n",
       "            <th style=\"padding-left: 1em; padding-right: 1em; text-align: center\"></th>\n",
       "            <th style=\"padding-left: 1em; padding-right: 1em; text-align: center\">Lunes</th>\n",
       "            <th style=\"padding-left: 1em; padding-right: 1em; text-align: center\">Martes</th>\n",
       "            <th style=\"padding-left: 1em; padding-right: 1em; text-align: center\">Miércoles</th>\n",
       "            <th style=\"padding-left: 1em; padding-right: 1em; text-align: center\">Jueves</th>\n",
       "            <th style=\"padding-left: 1em; padding-right: 1em; text-align: center\">Viernes</th>\n",
       "        </tr>\n",
       "    </thead>\n",
       "    <tbody>\n",
       "        <tr>\n",
       "            <td style=\"padding-left: 1em; padding-right: 1em; text-align: center; vertical-align: top\">1</td>\n",
       "            <td style=\"padding-left: 1em; padding-right: 1em; text-align: center; vertical-align: top\">Matemáticas <br> Pérez</td>\n",
       "            <td style=\"padding-left: 1em; padding-right: 1em; text-align: center; vertical-align: top\">Matemáticas <br> Pérez</td>\n",
       "            <td style=\"padding-left: 1em; padding-right: 1em; text-align: center; vertical-align: top\">Lenguaje <br> Rodríguez</td>\n",
       "            <td style=\"padding-left: 1em; padding-right: 1em; text-align: center; vertical-align: top\">Lenguaje <br> Rodríguez</td>\n",
       "            <td style=\"padding-left: 1em; padding-right: 1em; text-align: center; vertical-align: top\">Lenguaje <br> Rodríguez</td>\n",
       "        </tr>\n",
       "        <tr>\n",
       "            <td style=\"padding-left: 1em; padding-right: 1em; text-align: center; vertical-align: top\">2</td>\n",
       "            <td style=\"padding-left: 1em; padding-right: 1em; text-align: center; vertical-align: top\">Matemáticas <br> Pérez</td>\n",
       "            <td style=\"padding-left: 1em; padding-right: 1em; text-align: center; vertical-align: top\">Lenguaje <br> Rodríguez</td>\n",
       "            <td style=\"padding-left: 1em; padding-right: 1em; text-align: center; vertical-align: top\">Lenguaje <br> Rodríguez</td>\n",
       "            <td style=\"padding-left: 1em; padding-right: 1em; text-align: center; vertical-align: top\">Música <br> González</td>\n",
       "            <td style=\"padding-left: 1em; padding-right: 1em; text-align: center; vertical-align: top\">Lenguaje <br> Rodríguez</td>\n",
       "        </tr>\n",
       "        <tr>\n",
       "            <td style=\"padding-left: 1em; padding-right: 1em; text-align: center; vertical-align: top\">3</td>\n",
       "            <td style=\"padding-left: 1em; padding-right: 1em; text-align: center; vertical-align: top\">Música <br> González</td>\n",
       "            <td style=\"padding-left: 1em; padding-right: 1em; text-align: center; vertical-align: top\">Lenguaje <br> Rodríguez</td>\n",
       "            <td style=\"padding-left: 1em; padding-right: 1em; text-align: center; vertical-align: top\">Historia <br> Rodríguez</td>\n",
       "            <td style=\"padding-left: 1em; padding-right: 1em; text-align: center; vertical-align: top\">Orientación <br> González</td>\n",
       "            <td style=\"padding-left: 1em; padding-right: 1em; text-align: center; vertical-align: top\">Matemáticas <br> Pérez</td>\n",
       "        </tr>\n",
       "        <tr>\n",
       "            <td style=\"padding-left: 1em; padding-right: 1em; text-align: center; vertical-align: top\">4</td>\n",
       "            <td style=\"padding-left: 1em; padding-right: 1em; text-align: center; vertical-align: top\">Lenguaje <br> Rodríguez</td>\n",
       "            <td style=\"padding-left: 1em; padding-right: 1em; text-align: center; vertical-align: top\">Historia <br> Rodríguez</td>\n",
       "            <td style=\"padding-left: 1em; padding-right: 1em; text-align: center; vertical-align: top\">Religión <br> González</td>\n",
       "            <td style=\"padding-left: 1em; padding-right: 1em; text-align: center; vertical-align: top\">Educación Física <br> González</td>\n",
       "            <td style=\"padding-left: 1em; padding-right: 1em; text-align: center; vertical-align: top\">Educación Física <br> González</td>\n",
       "        </tr>\n",
       "        <tr>\n",
       "            <td style=\"padding-left: 1em; padding-right: 1em; text-align: center; vertical-align: top\">5</td>\n",
       "            <td style=\"padding-left: 1em; padding-right: 1em; text-align: center; vertical-align: top\">Tecnología <br> González</td>\n",
       "            <td style=\"padding-left: 1em; padding-right: 1em; text-align: center; vertical-align: top\">Historia <br> Rodríguez</td>\n",
       "            <td style=\"padding-left: 1em; padding-right: 1em; text-align: center; vertical-align: top\">Matemáticas <br> Pérez</td>\n",
       "            <td style=\"padding-left: 1em; padding-right: 1em; text-align: center; vertical-align: top\">Educación Física <br> González</td>\n",
       "            <td style=\"padding-left: 1em; padding-right: 1em; text-align: center; vertical-align: top\">Educación Física <br> González</td>\n",
       "        </tr>\n",
       "        <tr>\n",
       "            <td style=\"padding-left: 1em; padding-right: 1em; text-align: center; vertical-align: top\">6</td>\n",
       "            <td style=\"padding-left: 1em; padding-right: 1em; text-align: center; vertical-align: top\">Ciencias Naturales <br> Rodríguez</td>\n",
       "            <td style=\"padding-left: 1em; padding-right: 1em; text-align: center; vertical-align: top\">Artes Visuales <br> Pérez</td>\n",
       "            <td style=\"padding-left: 1em; padding-right: 1em; text-align: center; vertical-align: top\">Ciencias Naturales <br> Rodríguez</td>\n",
       "            <td style=\"padding-left: 1em; padding-right: 1em; text-align: center; vertical-align: top\">Religión <br> González</td>\n",
       "            <td style=\"padding-left: 1em; padding-right: 1em; text-align: center; vertical-align: top\">Ciencias Naturales <br> Rodríguez</td>\n",
       "        </tr>\n",
       "        <tr>\n",
       "            <td style=\"padding-left: 1em; padding-right: 1em; text-align: center; vertical-align: top\">7</td>\n",
       "            <td style=\"padding-left: 1em; padding-right: 1em; text-align: center; vertical-align: top\"></td>\n",
       "            <td style=\"padding-left: 1em; padding-right: 1em; text-align: center; vertical-align: top\">Artes Visuales <br> Pérez</td>\n",
       "            <td style=\"padding-left: 1em; padding-right: 1em; text-align: center; vertical-align: top\"></td>\n",
       "            <td style=\"padding-left: 1em; padding-right: 1em; text-align: center; vertical-align: top\">Matemáticas <br> Pérez</td>\n",
       "            <td style=\"padding-left: 1em; padding-right: 1em; text-align: center; vertical-align: top\"></td>\n",
       "        </tr>\n",
       "    </tbody>\n",
       "</table>"
      ],
      "text/plain": [
       "+---+---------------------+-----------------+---------------------+-------------------+---------------------+\n",
       "|   |        Lunes        |      Martes     |      Miércoles      |       Jueves      |       Viernes       |\n",
       "+---+---------------------+-----------------+---------------------+-------------------+---------------------+\n",
       "| 1 |     Matemáticas     |   Matemáticas   |      Lenguaje       |     Lenguaje      |      Lenguaje       |\n",
       "|   |         Pérez       |       Pérez     |       Rodríguez     |      Rodríguez    |       Rodríguez     |\n",
       "| 2 |     Matemáticas     |    Lenguaje     |      Lenguaje       |      Música       |      Lenguaje       |\n",
       "|   |         Pérez       |     Rodríguez   |       Rodríguez     |      González     |       Rodríguez     |\n",
       "| 3 |       Música        |    Lenguaje     |      Historia       |    Orientación    |     Matemáticas     |\n",
       "|   |       González      |     Rodríguez   |       Rodríguez     |      González     |         Pérez       |\n",
       "| 4 |      Lenguaje       |    Historia     |      Religión       | Educación Física  |  Educación Física   |\n",
       "|   |       Rodríguez     |     Rodríguez   |       González      |      González     |       González      |\n",
       "| 5 |     Tecnología      |    Historia     |     Matemáticas     | Educación Física  |  Educación Física   |\n",
       "|   |       González      |     Rodríguez   |         Pérez       |      González     |       González      |\n",
       "| 6 | Ciencias Naturales  | Artes Visuales  | Ciencias Naturales  |     Religión      | Ciencias Naturales  |\n",
       "|   |       Rodríguez     |       Pérez     |       Rodríguez     |      González     |       Rodríguez     |\n",
       "| 7 |                     | Artes Visuales  |                     |    Matemáticas    |                     |\n",
       "|   |                     |       Pérez     |                     |        Pérez      |                     |\n",
       "+---+---------------------+-----------------+---------------------+-------------------+---------------------+"
      ]
     },
     "execution_count": 478,
     "metadata": {},
     "output_type": "execute_result"
    }
   ],
   "source": [
    "def leer_output():\n",
    "    lista_final = []\n",
    "    with open('out.sol', 'r') as file:\n",
    "        lines = file.readlines()\n",
    "        for line in lines:\n",
    "            if line[-2] == '1':\n",
    "                line = line.strip('\\n')\n",
    "                lista_final.append(line)\n",
    "    # print(lista_final)\n",
    "    diccionario_dias = {\n",
    "        'Lunes': 1,\n",
    "        'Martes': 2,\n",
    "        'Miércoles': 3,\n",
    "        'Jueves': 4,\n",
    "        'Viernes': 5\n",
    "    }\n",
    "\n",
    "    vuelta = {\n",
    "        1: 'Lunes',\n",
    "        2: 'Martes',\n",
    "        3: 'Miércoles',\n",
    "        4: 'Jueves',\n",
    "        5: 'Viernes'\n",
    "    }\n",
    "\n",
    "    profesores_final = []\n",
    "    for elem in lista_final:\n",
    "        if elem[0] == \"x\":\n",
    "            elem = elem[2:-3]\n",
    "            elem = elem.split(',')\n",
    "            profesores_final.append(elem)\n",
    "    for i in range(len(profesores_final)):\n",
    "        profesores_final[i][4] = diccionario_dias[profesores_final[i][4]]\n",
    "    profesores_final = sorted(profesores_final, key= lambda x: x[5])\n",
    "    profesores_final = sorted(profesores_final, key= lambda x: x[4])\n",
    "    profesores_final = sorted(profesores_final, key= lambda x: x[1])\n",
    "\n",
    "    for i in range(len(profesores_final)):\n",
    "        profesores_final[i][4] = vuelta[profesores_final[i][4]]\n",
    "    return profesores_final\n",
    "\n",
    "def generar_horario(curso):\n",
    "    nivel = curso[:-1]\n",
    "    paralelo = curso[-1]\n",
    "\n",
    "    clases_curso = []\n",
    "    dias_semana = []\n",
    "    ultimo_dia = None\n",
    "    horario = PrettyTable(dias_semana)\n",
    "    lista_auxiliar = []\n",
    "    lista_dia = None\n",
    "    for elem in leer_output():    \n",
    "        if elem[0] == nivel and elem[1] == paralelo:\n",
    "            clases_curso.append([elem[3], elem[4], elem[5], elem[2]])\n",
    "            if elem[4] not in dias_semana:\n",
    "                dias_semana.append(elem[4])\n",
    "            if elem[4] != ultimo_dia:\n",
    "                lista_auxiliar.append(lista_dia)\n",
    "                lista_dia = []\n",
    "                ultimo_dia = elem[4]\n",
    "                lista_dia.append(ultimo_dia)\n",
    "                elem[3] = elem[3].replace('_', ' ')\n",
    "                elem[2] = elem[2].replace('_', ' ')\n",
    "                lista_dia.append(f'{elem[3]} \\n {elem[2]}')\n",
    "            else:\n",
    "                elem[3] = elem[3].replace('_', ' ')\n",
    "                elem[2] = elem[2].replace('_', ' ')\n",
    "                lista_dia.append(f'{elem[3]} \\n {elem[2]}')\n",
    "\n",
    "    lista_auxiliar.append(lista_dia)\n",
    "    lista_auxiliar = lista_auxiliar[1:]\n",
    "\n",
    "    len_maxima = 0\n",
    "    for dia in lista_auxiliar:\n",
    "        if len(dia) > len_maxima:\n",
    "            len_maxima = len(dia)\n",
    "\n",
    "    horario.add_column('', [i+1 for i in range(len_maxima - 1)])\n",
    "\n",
    "    for i in range(len(lista_auxiliar)):\n",
    "        for j in range(len_maxima - len(lista_auxiliar[i])):\n",
    "            lista_auxiliar[i].append('')\n",
    "        horario.add_column(lista_auxiliar[i][0], lista_auxiliar[i][1:], align='c')\n",
    "    horario.format = True   \n",
    "    print(f'Horario del curso {curso}: ')   \n",
    "    return horario\n",
    "\n",
    "curso = '1A'\n",
    "generar_horario(curso)"
   ]
  }
 ],
 "metadata": {
  "kernelspec": {
   "display_name": "Python 3",
   "language": "python",
   "name": "python3"
  },
  "language_info": {
   "codemirror_mode": {
    "name": "ipython",
    "version": 3
   },
   "file_extension": ".py",
   "mimetype": "text/x-python",
   "name": "python",
   "nbconvert_exporter": "python",
   "pygments_lexer": "ipython3",
   "version": "3.8.10 (tags/v3.8.10:3d8993a, May  3 2021, 11:48:03) [MSC v.1928 64 bit (AMD64)]"
  },
  "orig_nbformat": 4,
  "vscode": {
   "interpreter": {
    "hash": "be96e54ac1641eb6b0b6e091bda5f4569f87f77d93d2c1fb370b248d11e29b0c"
   }
  }
 },
 "nbformat": 4,
 "nbformat_minor": 2
}
