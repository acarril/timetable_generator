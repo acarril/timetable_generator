{
 "cells": [
  {
   "cell_type": "code",
   "execution_count": 194,
   "metadata": {},
   "outputs": [],
   "source": [
    "import gurobipy as gp\n",
    "from gurobipy import GRB\n",
    "from operator import itemgetter\n",
    "import itertools\n",
    "import math\n",
    "import numpy as np \n",
    "import json\n",
    "from prettytable import PrettyTable"
   ]
  },
  {
   "cell_type": "code",
   "execution_count": 196,
   "metadata": {},
   "outputs": [],
   "source": [
    "def formar_asignaciones(profesores_por_curso: dict):\n",
    "    lista_asignaciones = []\n",
    "    for curso in profesores_por_curso:\n",
    "        for llave in profesores_por_curso[curso]:\n",
    "            for tupla in profesores_por_curso[curso][llave]:\n",
    "                lista_asignaciones.append((curso, tupla[0], tupla[1]))\n",
    "    return lista_asignaciones\n",
    "\n",
    "def formar_asignaciones_multiples(clase_conjunta):\n",
    "    lista_asignaciones_multiples = []\n",
    "    cantidad_cursos_simultaneos = {}\n",
    "    for cs,p,k in clase_conjunta:\n",
    "        for c in cs:\n",
    "            lista_asignaciones_multiples.append((c,p,k))\n",
    "            cantidad_cursos_simultaneos[c,p,k] = len(cs)\n",
    "    return lista_asignaciones_multiples, cantidad_cursos_simultaneos\n",
    "\n",
    "def cantidad_maxima_de_dias(carga_profesores, ramos_por_curso):\n",
    "    tope_dias = {}\n",
    "    for profesor in carga_profesores:\n",
    "        suma = 0\n",
    "        for cantidad_cursos in carga_profesores[profesor]:\n",
    "            for curso,clase in carga_profesores[profesor][cantidad_cursos]:\n",
    "                suma += ramos_por_curso[curso][clase] * int(cantidad_cursos)\n",
    "            suma += int(len(carga_profesores[profesor][cantidad_cursos]) / int(cantidad_cursos))\n",
    "        if suma <= 3:\n",
    "            tope_dias[profesor] = 1\n",
    "        elif suma <= 6:\n",
    "            tope_dias[profesor] = 2\n",
    "        elif suma <= 9:\n",
    "            tope_dias[profesor] = 3\n",
    "        elif suma <= 12:\n",
    "            tope_dias[profesor] = 4\n",
    "        else:\n",
    "            tope_dias[profesor] = 5\n",
    "\n",
    "    return tope_dias"
   ]
  },
  {
   "cell_type": "code",
   "execution_count": 198,
   "metadata": {},
   "outputs": [],
   "source": [
    "model = gp.Model(\"Generación de horarios de colegio\")\n",
    "# model.setParam('OutputFlag', 1)\n",
    "f = open('parametros2.json',encoding='utf8')\n",
    "\n",
    "M = 10000\n",
    "data = json.load(f)\n",
    "dias = data['dias']\n",
    "modulos = data['modulos']\n",
    "ramos_con_modulos_seguidos = data['ramos_con_modulos_seguidos']\n",
    "combinaciones = data['combinaciones']\n",
    "horarios = data['horarios']\n",
    "profesores_por_curso = data['profesores_por_curso']\n",
    "ramos_por_curso = data['ramos_por_curso']\n",
    "carga_profesores = data['carga_profesores']\n",
    "profesores = list(carga_profesores.keys())\n",
    "multiples_cursos = data['multiples_cursos']\n",
    "multiples_profesores = data['multiples_profesores']\n",
    "modulos_consecutivos = [(a,b) for a in modulos for b in modulos if a+1 == b]\n",
    "# multiples_cursos_y_profesores = data['multiples_cursos_y_profesores']\n",
    "\n",
    "# # # ! DATOS HECHIZOS\n",
    "# cantidad_profesores_ramo = {\n",
    "#     \"Lenguaje\": 10,\n",
    "#     \"Matemáticas\": 10,\n",
    "#     \"Historia\": 7,\n",
    "#     \"Artes_Visuales\": 5,\n",
    "#     \"Música\": 5,\n",
    "#     \"Educación_Física\": 8,\n",
    "#     \"Orientación\": 4,\n",
    "#     \"Tecnología\": 4,\n",
    "#     \"Religión\": 5,\n",
    "#     \"Ciencias_Naturales\": 7,\n",
    "#     \"Inglés\": 7,\n",
    "#     \"Consejo_de_Curso\": 1,\n",
    "#     \"Filosofía\": 1\n",
    "# }\n",
    "# cantidad_cursos_profesor = {\n",
    "#     \"Lenguaje\": 4,\n",
    "#     \"Matemáticas\": 4,\n",
    "#     \"Historia\": 4,\n",
    "#     \"Artes_Visuales\": 6,\n",
    "#     \"Música\": 6,\n",
    "#     \"Educación_Física\": 4,\n",
    "#     \"Orientación\": 10,\n",
    "#     \"Tecnología\": 10,\n",
    "#     \"Religión\": 7,\n",
    "#     \"Ciencias_Naturales\": 4,\n",
    "#     \"Inglés\": 4,\n",
    "#     \"Consejo_de_Curso\": 10,\n",
    "#     \"Filosofía\": 10\n",
    "# }\n",
    "\n",
    "# import simulador\n",
    "# ramos_por_curso = simulador.generar_horas_libres(ramos_por_curso)\n",
    "# lista_profesores_para_asignaciones, profesores = simulador.generar_profesores(7, 74, cantidad_profesores_ramo, cantidad_cursos_profesor)\n",
    "# profesores_por_curso = simulador.generar_asignaciones(lista_profesores_para_asignaciones, ramos_por_curso)\n",
    "\n",
    "asignaciones_normales = formar_asignaciones(profesores_por_curso)\n",
    "# asignaciones_multiples, cantidad_de_cursos_simultaneos = formar_asignaciones_multiples(multiples_cursos)\n",
    "tope_dias = cantidad_maxima_de_dias(carga_profesores, ramos_por_curso)\n",
    "\n",
    "asignaciones = asignaciones_normales\n",
    "\n",
    "x = model.addVars(asignaciones,dias,modulos,vtype=GRB.BINARY, name=\"x\")\n",
    "s = model.addVars(asignaciones,dias,vtype=GRB.BINARY, name=\"s\")\n",
    "y = model.addVars(profesores,dias,vtype=GRB.BINARY,name=\"y\")"
   ]
  },
  {
   "attachments": {},
   "cell_type": "markdown",
   "metadata": {},
   "source": [
    "##### Se tiene solo una clase a la vez y se tiene una clase en cada módulo del horario (se consideran los casos donde una clase tiene más de un profesor)"
   ]
  },
  {
   "cell_type": "code",
   "execution_count": 199,
   "metadata": {},
   "outputs": [],
   "source": [
    "model.addConstrs((sum(x[c,p,k,d,j] for l in profesores_por_curso[c] for p,k in profesores_por_curso[c][l]) >= 1 \\\n",
    "    for c in horarios for d in horarios[c] for j in horarios[c][d]),name=\"R1\");"
   ]
  },
  {
   "cell_type": "code",
   "execution_count": 200,
   "metadata": {},
   "outputs": [],
   "source": [
    "model.addConstrs((sum(x[c,p,k,d,j] for p,k in profesores_por_curso[c]['1']) <= 1 \\\n",
    "    for c in horarios for d in horarios[c] for j in horarios[c][d]),name=\"R1b\");"
   ]
  },
  {
   "cell_type": "code",
   "execution_count": 207,
   "metadata": {},
   "outputs": [
    {
     "name": "stdout",
     "output_type": "stream",
     "text": [
      "2A ['González', 'Hakimi'] Música\n",
      "[('González', 'Hakimi')]\n",
      "2B ['González', 'Hakimi'] Música\n",
      "[('González', 'Hakimi')]\n",
      "2A ['González', 'Mbappé'] Educación_Física\n",
      "[('González', 'Mbappé')]\n",
      "2B ['González', 'Mbappé'] Educación_Física\n",
      "[('González', 'Mbappé')]\n"
     ]
    }
   ],
   "source": [
    "for c,ps,k in multiples_profesores:\n",
    "    print(c,ps,k)\n",
    "    print([(ps[a],ps[b]) for a in range(len(ps)) for b in range(len(ps)) if a<b])"
   ]
  },
  {
   "cell_type": "code",
   "execution_count": 210,
   "metadata": {},
   "outputs": [],
   "source": [
    "for c,ps,k in multiples_profesores:\n",
    "    model.addConstrs((x[c,p1,k,d,j] - x[c,p2,k,d,j] == 0\n",
    "    for p1,p2 in [(ps[a],ps[b]) for a in range(len(ps)) for b in range(len(ps)) if a < b]\n",
    "    for d in dias for j in modulos),name=\"R1c\");"
   ]
  },
  {
   "attachments": {},
   "cell_type": "markdown",
   "metadata": {},
   "source": [
    "##### En el horario se tiene exactamente la cantidad de clases definida"
   ]
  },
  {
   "cell_type": "code",
   "execution_count": 211,
   "metadata": {},
   "outputs": [],
   "source": [
    "model.addConstrs((sum(x[c,p,k,d,j] for d in dias for j in modulos) == ramos_por_curso[c][k] \\\n",
    "    for c in profesores_por_curso for l in profesores_por_curso[c] for p,k in profesores_por_curso[c][l]),name=\"R2\");"
   ]
  },
  {
   "attachments": {},
   "cell_type": "markdown",
   "metadata": {},
   "source": [
    "##### No se tiene clases en los módulos que no son parte del horario"
   ]
  },
  {
   "cell_type": "code",
   "execution_count": 212,
   "metadata": {},
   "outputs": [],
   "source": [
    "model.addConstrs((sum(x[c,p,k,d,j] for l in profesores_por_curso[c] for p,k in profesores_por_curso[c][l]) == 0 \\\n",
    "    for c in horarios for d in horarios[c] for j in list(set(modulos) - set(horarios[c][d]))),name=\"R3\");"
   ]
  },
  {
   "attachments": {},
   "cell_type": "markdown",
   "metadata": {},
   "source": [
    "##### Asignación profesores"
   ]
  },
  {
   "cell_type": "code",
   "execution_count": 214,
   "metadata": {},
   "outputs": [],
   "source": [
    "for cs,p2,k2 in multiples_cursos :\n",
    "     model.addConstrs((sum(x[c,p,k,d,j] for c,k in carga_profesores[p][q] if c != c2) + \\\n",
    "          x[c2,p,k2,d,j] <= int(q) \\\n",
    "          for c2 in [cs[a] for a in range(len(cs)) for b in range(len(cs)) if a < b]\n",
    "          for p in list(carga_profesores.keys()) for q in carga_profesores[p] for d in dias for j in modulos if p == p2),name=\"R4\");"
   ]
  },
  {
   "cell_type": "code",
   "execution_count": 216,
   "metadata": {},
   "outputs": [],
   "source": [
    "model.addConstrs((sum(x[c,p,k,d,j] for c,k in carga_profesores[p][q]) <= int(q) \\\n",
    "     for p in list(carga_profesores.keys()) for q in carga_profesores[p] for d in dias for j in modulos),name=\"R5\");"
   ]
  },
  {
   "cell_type": "code",
   "execution_count": 219,
   "metadata": {},
   "outputs": [],
   "source": [
    "for cs,p,k in multiples_cursos :\n",
    "    model.addConstrs((x[c1,p,k,d,j] - x[c2,p,k,d,j] == 0 \\\n",
    "        for c1,c2 in [(cs[a],cs[b]) for a in range(len(cs)) for b in range(len(cs)) if a < b]\n",
    "        for d in dias for j in modulos),name=\"R6\");"
   ]
  },
  {
   "cell_type": "code",
   "execution_count": 220,
   "metadata": {},
   "outputs": [],
   "source": [
    "model.addConstrs((sum(x[c,p,k,d,j] for j in modulos) <= 2 for d in dias for c in horarios \n",
    "for l in profesores_por_curso[c] for p,k in profesores_por_curso[c][l]),name=\"R7\");"
   ]
  },
  {
   "cell_type": "code",
   "execution_count": 182,
   "metadata": {},
   "outputs": [],
   "source": [
    "model.addConstrs((x[c,p,k,d,j] + x[c,p,k,d,z] <= 1 for c,p,k in asignaciones for d in dias \\\n",
    "    for j,z in list(set([(a,b) for a in horarios[c][d] for b in horarios[c][d] if a < b]) - set(combinaciones))),name=\"R8\");"
   ]
  },
  {
   "cell_type": "code",
   "execution_count": 221,
   "metadata": {},
   "outputs": [],
   "source": [
    "model.addConstrs((M * s[c,p,k,d] >= sum(x[c,p,k,d,j] for j in modulos) for c,p,k in asignaciones for d in dias),name=\"RS1\");"
   ]
  },
  {
   "cell_type": "code",
   "execution_count": 222,
   "metadata": {},
   "outputs": [],
   "source": [
    "model.addConstrs((sum(s[c,p,k,d] for d in dias) <= math.ceil(ramos_por_curso[c][k] / 2) \\\n",
    "    for c in horarios for l in profesores_por_curso[c] for p,k in profesores_por_curso[c][l] if k in ramos_con_modulos_seguidos),name=\"RS2\");"
   ]
  },
  {
   "attachments": {},
   "cell_type": "markdown",
   "metadata": {},
   "source": [
    "##### Tope de días según la cantidad de horas de clases que hace cada profesor"
   ]
  },
  {
   "cell_type": "code",
   "execution_count": 223,
   "metadata": {},
   "outputs": [],
   "source": [
    "model.addConstrs((M * y[p,d] >= sum(s[c,p,k,d] for c,k in carga_profesores[p][q]) \\\n",
    "    for d in dias for p in carga_profesores for q in carga_profesores[p]),name=\"RY1\");"
   ]
  },
  {
   "cell_type": "code",
   "execution_count": 224,
   "metadata": {},
   "outputs": [],
   "source": [
    "model.addConstrs((sum(y[p,d] for d in dias) <= tope_dias[p] for p in carga_profesores),name=\"RY2\");"
   ]
  },
  {
   "cell_type": "code",
   "execution_count": 225,
   "metadata": {},
   "outputs": [
    {
     "name": "stdout",
     "output_type": "stream",
     "text": [
      "Warning: constraint name \"R1c[2A,['González', 'Hakimi'],Música,González,Hakimi,Lunes,1]\" has a space\n",
      "Set parameter PoolSearchMode to value 2\n"
     ]
    }
   ],
   "source": [
    "obj = sum(x[c,p,k,d,j] + x[c2,p2,k2,d,z] for c,p,k in asignaciones for c2,p2,k2 in asignaciones for d in dias for j,z in modulos_consecutivos\n",
    "if p == p2 and c == c2)\n",
    "model.setObjective(obj, GRB.MINIMIZE)\n",
    "\n",
    "model.write('model.lp')\n",
    "model.setParam(\"PoolSolutions\", 10)\n",
    "model.setParam('PoolSearchMode', 2)\n",
    "model.setParam('OutputFlag', 0)\n",
    "model.update()\n",
    "\n",
    "# model.computeIIS()\n",
    "# removed =[]\n",
    "# for c in model.getConstrs():\n",
    "#     if c.IISConstr:\n",
    "#         print('%s' % c.constrName)\n",
    "#         # Remove a single constraint from the model\n",
    "#         removed.append(str(c.constrName))\n",
    "#         model.remove(c)\n",
    "model.optimize()\n",
    "for i in range(model.SolCount):\n",
    "    model.setParam(\"SolutionNumber\", i)\n",
    "    model.update()\n",
    "\n",
    "    model.optimize()\n",
    "    model.write(f\"solutions/out{i+1}.sol\")\n",
    "# model.optimize()\n",
    "# model.write('out.sol')"
   ]
  },
  {
   "cell_type": "code",
   "execution_count": 226,
   "metadata": {},
   "outputs": [
    {
     "name": "stdout",
     "output_type": "stream",
     "text": [
      "Horario del curso 1A: \n"
     ]
    },
    {
     "data": {
      "text/html": [
       "<table frame=\"box\" rules=\"cols\">\n",
       "    <thead>\n",
       "        <tr>\n",
       "            <th style=\"padding-left: 1em; padding-right: 1em; text-align: center\"></th>\n",
       "            <th style=\"padding-left: 1em; padding-right: 1em; text-align: center\">Lunes</th>\n",
       "            <th style=\"padding-left: 1em; padding-right: 1em; text-align: center\">Martes</th>\n",
       "            <th style=\"padding-left: 1em; padding-right: 1em; text-align: center\">Miércoles</th>\n",
       "            <th style=\"padding-left: 1em; padding-right: 1em; text-align: center\">Jueves</th>\n",
       "            <th style=\"padding-left: 1em; padding-right: 1em; text-align: center\">Viernes</th>\n",
       "        </tr>\n",
       "    </thead>\n",
       "    <tbody>\n",
       "        <tr>\n",
       "            <td style=\"padding-left: 1em; padding-right: 1em; text-align: center; vertical-align: top\">1</td>\n",
       "            <td style=\"padding-left: 1em; padding-right: 1em; text-align: center; vertical-align: top\">Ciencias Naturales <br> Rodríguez</td>\n",
       "            <td style=\"padding-left: 1em; padding-right: 1em; text-align: center; vertical-align: top\">Religión <br> González</td>\n",
       "            <td style=\"padding-left: 1em; padding-right: 1em; text-align: center; vertical-align: top\">Tecnología <br> González</td>\n",
       "            <td style=\"padding-left: 1em; padding-right: 1em; text-align: center; vertical-align: top\">Ciencias Naturales <br> Rodríguez</td>\n",
       "            <td style=\"padding-left: 1em; padding-right: 1em; text-align: center; vertical-align: top\">Música <br> González</td>\n",
       "        </tr>\n",
       "        <tr>\n",
       "            <td style=\"padding-left: 1em; padding-right: 1em; text-align: center; vertical-align: top\">2</td>\n",
       "            <td style=\"padding-left: 1em; padding-right: 1em; text-align: center; vertical-align: top\">Lenguaje <br> Rodríguez</td>\n",
       "            <td style=\"padding-left: 1em; padding-right: 1em; text-align: center; vertical-align: top\">Artes Visuales <br> Pérez</td>\n",
       "            <td style=\"padding-left: 1em; padding-right: 1em; text-align: center; vertical-align: top\">Tecnología <br> González</td>\n",
       "            <td style=\"padding-left: 1em; padding-right: 1em; text-align: center; vertical-align: top\">Lenguaje <br> Rodríguez</td>\n",
       "            <td style=\"padding-left: 1em; padding-right: 1em; text-align: center; vertical-align: top\">Ciencias Naturales <br> Rodríguez</td>\n",
       "        </tr>\n",
       "        <tr>\n",
       "            <td style=\"padding-left: 1em; padding-right: 1em; text-align: center; vertical-align: top\">3</td>\n",
       "            <td style=\"padding-left: 1em; padding-right: 1em; text-align: center; vertical-align: top\">Orientación <br> González</td>\n",
       "            <td style=\"padding-left: 1em; padding-right: 1em; text-align: center; vertical-align: top\">Matemáticas <br> Pérez</td>\n",
       "            <td style=\"padding-left: 1em; padding-right: 1em; text-align: center; vertical-align: top\">Historia <br> Rodríguez</td>\n",
       "            <td style=\"padding-left: 1em; padding-right: 1em; text-align: center; vertical-align: top\">Matemáticas <br> Pérez</td>\n",
       "            <td style=\"padding-left: 1em; padding-right: 1em; text-align: center; vertical-align: top\">Educación Física <br> González</td>\n",
       "        </tr>\n",
       "        <tr>\n",
       "            <td style=\"padding-left: 1em; padding-right: 1em; text-align: center; vertical-align: top\">4</td>\n",
       "            <td style=\"padding-left: 1em; padding-right: 1em; text-align: center; vertical-align: top\">Matemáticas <br> Pérez</td>\n",
       "            <td style=\"padding-left: 1em; padding-right: 1em; text-align: center; vertical-align: top\">Lenguaje <br> Rodríguez</td>\n",
       "            <td style=\"padding-left: 1em; padding-right: 1em; text-align: center; vertical-align: top\">Lenguaje <br> Rodríguez</td>\n",
       "            <td style=\"padding-left: 1em; padding-right: 1em; text-align: center; vertical-align: top\">Matemáticas <br> Pérez</td>\n",
       "            <td style=\"padding-left: 1em; padding-right: 1em; text-align: center; vertical-align: top\">Matemáticas <br> Pérez</td>\n",
       "        </tr>\n",
       "        <tr>\n",
       "            <td style=\"padding-left: 1em; padding-right: 1em; text-align: center; vertical-align: top\">5</td>\n",
       "            <td style=\"padding-left: 1em; padding-right: 1em; text-align: center; vertical-align: top\">Matemáticas <br> Pérez</td>\n",
       "            <td style=\"padding-left: 1em; padding-right: 1em; text-align: center; vertical-align: top\">Educación Física <br> González</td>\n",
       "            <td style=\"padding-left: 1em; padding-right: 1em; text-align: center; vertical-align: top\">Ciencias Naturales <br> Rodríguez</td>\n",
       "            <td style=\"padding-left: 1em; padding-right: 1em; text-align: center; vertical-align: top\">Lenguaje <br> Rodríguez</td>\n",
       "            <td style=\"padding-left: 1em; padding-right: 1em; text-align: center; vertical-align: top\">Educación Física <br> González</td>\n",
       "        </tr>\n",
       "        <tr>\n",
       "            <td style=\"padding-left: 1em; padding-right: 1em; text-align: center; vertical-align: top\">6</td>\n",
       "            <td style=\"padding-left: 1em; padding-right: 1em; text-align: center; vertical-align: top\">Lenguaje <br> Rodríguez</td>\n",
       "            <td style=\"padding-left: 1em; padding-right: 1em; text-align: center; vertical-align: top\">Artes Visuales <br> Pérez</td>\n",
       "            <td style=\"padding-left: 1em; padding-right: 1em; text-align: center; vertical-align: top\">Lenguaje <br> Rodríguez</td>\n",
       "            <td style=\"padding-left: 1em; padding-right: 1em; text-align: center; vertical-align: top\">Historia <br> Rodríguez</td>\n",
       "            <td style=\"padding-left: 1em; padding-right: 1em; text-align: center; vertical-align: top\">Orientación <br> González</td>\n",
       "        </tr>\n",
       "        <tr>\n",
       "            <td style=\"padding-left: 1em; padding-right: 1em; text-align: center; vertical-align: top\">7</td>\n",
       "            <td style=\"padding-left: 1em; padding-right: 1em; text-align: center; vertical-align: top\">Artes Visuales <br> Pérez</td>\n",
       "            <td style=\"padding-left: 1em; padding-right: 1em; text-align: center; vertical-align: top\">Educación Física <br> González</td>\n",
       "            <td style=\"padding-left: 1em; padding-right: 1em; text-align: center; vertical-align: top\">Música <br> González</td>\n",
       "            <td style=\"padding-left: 1em; padding-right: 1em; text-align: center; vertical-align: top\">Religión <br> González</td>\n",
       "            <td style=\"padding-left: 1em; padding-right: 1em; text-align: center; vertical-align: top\">Música <br> González</td>\n",
       "        </tr>\n",
       "        <tr>\n",
       "            <td style=\"padding-left: 1em; padding-right: 1em; text-align: center; vertical-align: top\">8</td>\n",
       "            <td style=\"padding-left: 1em; padding-right: 1em; text-align: center; vertical-align: top\"></td>\n",
       "            <td style=\"padding-left: 1em; padding-right: 1em; text-align: center; vertical-align: top\">Lenguaje <br> Rodríguez</td>\n",
       "            <td style=\"padding-left: 1em; padding-right: 1em; text-align: center; vertical-align: top\">Matemáticas <br> Pérez</td>\n",
       "            <td style=\"padding-left: 1em; padding-right: 1em; text-align: center; vertical-align: top\">Historia <br> Rodríguez</td>\n",
       "            <td style=\"padding-left: 1em; padding-right: 1em; text-align: center; vertical-align: top\"></td>\n",
       "        </tr>\n",
       "    </tbody>\n",
       "</table>"
      ],
      "text/plain": [
       "+---+---------------------+-------------------+---------------------+---------------------+---------------------+\n",
       "|   |        Lunes        |       Martes      |      Miércoles      |        Jueves       |       Viernes       |\n",
       "+---+---------------------+-------------------+---------------------+---------------------+---------------------+\n",
       "| 1 | Ciencias Naturales  |     Religión      |     Tecnología      | Ciencias Naturales  |       Música        |\n",
       "|   |       Rodríguez     |      González     |       González      |       Rodríguez     |       González      |\n",
       "| 2 |      Lenguaje       |  Artes Visuales   |     Tecnología      |      Lenguaje       | Ciencias Naturales  |\n",
       "|   |       Rodríguez     |        Pérez      |       González      |       Rodríguez     |       Rodríguez     |\n",
       "| 3 |     Orientación     |    Matemáticas    |      Historia       |     Matemáticas     |  Educación Física   |\n",
       "|   |       González      |        Pérez      |       Rodríguez     |         Pérez       |       González      |\n",
       "| 4 |     Matemáticas     |     Lenguaje      |      Lenguaje       |     Matemáticas     |     Matemáticas     |\n",
       "|   |         Pérez       |      Rodríguez    |       Rodríguez     |         Pérez       |         Pérez       |\n",
       "| 5 |     Matemáticas     | Educación Física  | Ciencias Naturales  |      Lenguaje       |  Educación Física   |\n",
       "|   |         Pérez       |      González     |       Rodríguez     |       Rodríguez     |       González      |\n",
       "| 6 |      Lenguaje       |  Artes Visuales   |      Lenguaje       |      Historia       |     Orientación     |\n",
       "|   |       Rodríguez     |        Pérez      |       Rodríguez     |       Rodríguez     |       González      |\n",
       "| 7 |   Artes Visuales    | Educación Física  |       Música        |      Religión       |       Música        |\n",
       "|   |         Pérez       |      González     |       González      |       González      |       González      |\n",
       "| 8 |                     |     Lenguaje      |     Matemáticas     |      Historia       |                     |\n",
       "|   |                     |      Rodríguez    |         Pérez       |       Rodríguez     |                     |\n",
       "+---+---------------------+-------------------+---------------------+---------------------+---------------------+"
      ]
     },
     "execution_count": 226,
     "metadata": {},
     "output_type": "execute_result"
    }
   ],
   "source": [
    "def leer_output(numero_sol):\n",
    "    lista_final = []\n",
    "    with open(f'solutions/out{numero_sol}.sol', 'r') as file:\n",
    "        lines = file.readlines()[2:]\n",
    "        for line in lines:\n",
    "            if line[-2] == '1':\n",
    "                if line[-4] == ']':\n",
    "                    line = line.strip('\\n')\n",
    "                    lista_final.append(line)\n",
    "                else:\n",
    "                    line = line.strip('\\n')\n",
    "                    if round(float(line[line.find(']') + 2:])) == 1:\n",
    "                        lista_final.append(line)\n",
    "            else:\n",
    "                if line[-4] != ']':\n",
    "                    line = line.strip('\\n')\n",
    "                    if int(float(line[line.find(']') + 2:])) == 1:\n",
    "                        lista_final.append(line)\n",
    "    diccionario_dias = {\n",
    "        'Lunes': 1,\n",
    "        'Martes': 2,\n",
    "        'Miércoles': 3,\n",
    "        'Jueves': 4,\n",
    "        'Viernes': 5\n",
    "    }\n",
    "\n",
    "    vuelta = {\n",
    "        1: 'Lunes',\n",
    "        2: 'Martes',\n",
    "        3: 'Miércoles',\n",
    "        4: 'Jueves',\n",
    "        5: 'Viernes'\n",
    "    }\n",
    "\n",
    "    profesores_final = []\n",
    "    for elem in lista_final:\n",
    "        if elem[0] == \"x\":\n",
    "            elem = elem[2:-3]\n",
    "            elem = elem.split(',')\n",
    "            profesores_final.append(elem)\n",
    "    for i in range(len(profesores_final)):\n",
    "        profesores_final[i][3] = diccionario_dias[profesores_final[i][3]]\n",
    "    profesores_final = sorted(profesores_final, key= lambda x: x[4])\n",
    "    profesores_final = sorted(profesores_final, key= lambda x: x[3])\n",
    "    profesores_final = sorted(profesores_final, key= lambda x: x[0])\n",
    "\n",
    "    for i in range(len(profesores_final)):\n",
    "        profesores_final[i][3] = vuelta[profesores_final[i][3]]\n",
    "\n",
    "    ultimo_curso = None\n",
    "    ultimo_ramo = None\n",
    "    ultimo_dia = None\n",
    "    ultimo_modulo = None\n",
    "    indices = []\n",
    "    for i in range(len(profesores_final)):\n",
    "        if profesores_final[i][0] == ultimo_curso:\n",
    "            if profesores_final[i][2] == ultimo_ramo:\n",
    "                if profesores_final[i][3] == ultimo_dia:\n",
    "                    if profesores_final[i][4] == ultimo_modulo:\n",
    "                        indices.append(i)\n",
    "        ultimo_curso = profesores_final[i][0]\n",
    "        ultimo_ramo = profesores_final[i][2]\n",
    "        ultimo_dia = profesores_final[i][3]\n",
    "        ultimo_modulo = profesores_final[i][4]\n",
    "    indices.reverse()\n",
    "    for indice in indices:\n",
    "        profesores_final[indice - 1][1] = profesores_final[indice - 1][1] + ' & ' + profesores_final[indice][1]\n",
    "        profesores_final.pop(indice)\n",
    "    return profesores_final\n",
    "\n",
    "def generar_horario(curso, numero_sol):\n",
    "\n",
    "    clases_curso = []\n",
    "    dias_semana = []\n",
    "    ultimo_dia = None\n",
    "    horario = PrettyTable(dias_semana)\n",
    "    lista_auxiliar = []\n",
    "    lista_dia = None\n",
    "    for elem in leer_output(numero_sol):    \n",
    "        if elem[0] == curso:\n",
    "            clases_curso.append([elem[2], elem[3], elem[4], elem[1]])\n",
    "            if elem[3] not in dias_semana:\n",
    "                dias_semana.append(elem[3])\n",
    "            if elem[3] != ultimo_dia:\n",
    "                lista_auxiliar.append(lista_dia)\n",
    "                lista_dia = []\n",
    "                ultimo_dia = elem[3]\n",
    "                lista_dia.append(ultimo_dia)\n",
    "                elem[2] = elem[2].replace('_', ' ')\n",
    "                elem[1] = elem[1].replace('_', ' ')\n",
    "                lista_dia.append(f'{elem[2]} \\n {elem[1]}')\n",
    "            else:\n",
    "                elem[2] = elem[2].replace('_', ' ')\n",
    "                elem[1] = elem[1].replace('_', ' ')\n",
    "                lista_dia.append(f'{elem[2]} \\n {elem[1]}')\n",
    "\n",
    "    lista_auxiliar.append(lista_dia)\n",
    "    lista_auxiliar = lista_auxiliar[1:]\n",
    "    len_maxima = 0\n",
    "    for dia in lista_auxiliar:\n",
    "        if len(dia) > len_maxima:\n",
    "            len_maxima = len(dia)\n",
    "\n",
    "    horario.add_column('', [i+1 for i in range(len_maxima - 1)])\n",
    "\n",
    "    for i in range(len(lista_auxiliar)):\n",
    "        for j in range(len_maxima - len(lista_auxiliar[i])):\n",
    "            lista_auxiliar[i].append('')\n",
    "        horario.add_column(lista_auxiliar[i][0], lista_auxiliar[i][1:], align='c')\n",
    "    horario.format = True   \n",
    "    print(f'Horario del curso {curso}: ')   \n",
    "    return horario\n",
    "\n",
    "curso = '1A'\n",
    "generar_horario(curso,numero_sol=2)"
   ]
  },
  {
   "attachments": {},
   "cell_type": "markdown",
   "metadata": {},
   "source": [
    "### A continuación se presenta una idea donde se podría seleccionar ciertas componentes del horario y fijarlas o bloquearlas para una siguiente iteración"
   ]
  },
  {
   "attachments": {},
   "cell_type": "markdown",
   "metadata": {},
   "source": [
    "##### Una idea sería que, si se selecciona un bloque a la vez, uno puede fijarlo en esa posición o bloquearlo de esa posición"
   ]
  },
  {
   "cell_type": "code",
   "execution_count": 227,
   "metadata": {},
   "outputs": [],
   "source": [
    "asignaciones_vetadas = []\n",
    "# ! Esta sería información que se obtiene clickeando el bloque\n",
    "curso_vetado = '1A'\n",
    "profesor_vetado = 'Pérez'\n",
    "clase_vetada = 'Matemáticas'\n",
    "dia_vetado = 'Lunes'\n",
    "modulo_vetado = 2\n",
    "asignaciones_vetadas.append((curso_vetado, profesor_vetado, clase_vetada, dia_vetado, modulo_vetado))\n",
    "# * y después esto se agrega al modelo\n",
    "model.addConstrs((x[c,p,k,d,j] == 0 for c,p,k,d,j in asignaciones_vetadas),name=\"RExtra1\");\n",
    "\n",
    "asignaciones_fijadas = []\n",
    "curso_fijado = '1A'\n",
    "profesor_fijado = 'González'\n",
    "clase_fijada = 'Educación_Física'\n",
    "dia_fijado = 'Martes'\n",
    "modulo_fijado = 5\n",
    "model.addConstrs((x[c,p,k,d,j] == 1 for c,p,k,d,j in asignaciones_fijadas),name=\"RExtra2\");"
   ]
  },
  {
   "attachments": {},
   "cell_type": "markdown",
   "metadata": {},
   "source": [
    "##### También se puede querer mantener/vetar un comportamiento de dos partes del horario simultáneamente."
   ]
  },
  {
   "cell_type": "code",
   "execution_count": 228,
   "metadata": {},
   "outputs": [],
   "source": [
    "# * Si se tienen dos cursos seleccionados se puede querer que en un siguiente horario estén juntos sí o sí. Esto obviamente no se aplicaría para el caso que sean clases que\n",
    "# * necesariamente son consecutivas\n",
    "\n",
    "combinaciones_vetadas = []\n",
    "\n",
    "curso_a_tratar = '1A'\n",
    "profesor1 = 'Rodríguez'\n",
    "profesor2 = 'Pérez'\n",
    "clase1 = 'Lenguaje'\n",
    "clase2 = 'Matemáticas'\n",
    "# ? Interesa realmente módulo y día\n",
    "\n",
    "combinaciones_vetadas.append((curso_a_tratar, profesor1, profesor2, clase1, clase2))\n",
    "\n",
    "# ! Para vetarlos\n",
    "model.addConstrs((x[c,p1,k1,d,j] + x[c,p2,k2,d,z] <= 1 for c,p1,p2,k1,k2 in combinaciones_vetadas for d in dias for j,z in modulos_consecutivos),name=\"RExtra3\");\n",
    "\n",
    "combinaciones_deseadas = []\n",
    "\n",
    "curso_a_tratar = '1A'\n",
    "profesor1 = 'González'\n",
    "profesor2 = 'Pérez'\n",
    "clase1 = 'Música'\n",
    "clase2 = 'Matemáticas'\n",
    "dia = 'Miércoles'\n",
    "modulo1 = 1\n",
    "modulo2 = 2\n",
    "\n",
    "combinaciones_deseadas.append((curso_a_tratar,profesor1,profesor2,clase1,clase2,dia,modulo1,modulo2))\n",
    "\n",
    "# * Para fijarlos\n",
    "model.addConstrs((x[c,p1,k1,d,j1] + x[c,p2,k2,d,j2] == 2 for c,p1,p2,k1,k2,d,j1,j2 in combinaciones_deseadas),name=\"RExtra5\");"
   ]
  }
 ],
 "metadata": {
  "kernelspec": {
   "display_name": "Python 3",
   "language": "python",
   "name": "python3"
  },
  "language_info": {
   "codemirror_mode": {
    "name": "ipython",
    "version": 3
   },
   "file_extension": ".py",
   "mimetype": "text/x-python",
   "name": "python",
   "nbconvert_exporter": "python",
   "pygments_lexer": "ipython3",
   "version": "3.8.10"
  },
  "orig_nbformat": 4,
  "vscode": {
   "interpreter": {
    "hash": "be96e54ac1641eb6b0b6e091bda5f4569f87f77d93d2c1fb370b248d11e29b0c"
   }
  }
 },
 "nbformat": 4,
 "nbformat_minor": 2
}
