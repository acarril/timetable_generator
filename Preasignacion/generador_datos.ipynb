{
 "cells": [
  {
   "cell_type": "code",
   "execution_count": 81,
   "metadata": {},
   "outputs": [
    {
     "data": {
      "text/plain": [
       "1912"
      ]
     },
     "execution_count": 81,
     "metadata": {},
     "output_type": "execute_result"
    }
   ],
   "source": [
    "import json\n",
    "import random\n",
    "import string\n",
    "\n",
    "with open('parametros_preasignacion.json', encoding='utf8') as f:\n",
    "    datos = json.load(f)\n",
    "\n",
    "cantidad_de_horas_por_ramo_por_curso = datos['cantidad_de_horas_por_ramo_por_curso']\n",
    "\n",
    "total_horas_a_cubrir = 0\n",
    "for curso in cantidad_de_horas_por_ramo_por_curso:\n",
    "    for ramo in cantidad_de_horas_por_ramo_por_curso[curso]:\n",
    "        total_horas_a_cubrir += cantidad_de_horas_por_ramo_por_curso[curso][ramo]\n",
    "total_horas_a_cubrir"
   ]
  },
  {
   "cell_type": "code",
   "execution_count": 82,
   "metadata": {},
   "outputs": [],
   "source": [
    "def generar_profesores(length: int, cantidad: int):\n",
    "    lista_profesores = []\n",
    "    for _ in range(cantidad):\n",
    "        first_letter = string.ascii_uppercase\n",
    "        letters = string.ascii_lowercase\n",
    "        first_letter = random.choice(first_letter)\n",
    "        result_str = ''.join(random.choice(letters) for _ in range(length))\n",
    "        result_str = first_letter + result_str\n",
    "        lista_profesores.append(result_str)\n",
    "    return lista_profesores\n",
    "    \n",
    "\n",
    "profesores = generar_profesores(7, 120)"
   ]
  },
  {
   "cell_type": "code",
   "execution_count": 83,
   "metadata": {},
   "outputs": [],
   "source": [
    "disponibilidad_horaria = {}\n",
    "for i in range(len(profesores)):\n",
    "    disponibilidad_horaria[profesores[i]] = 20"
   ]
  },
  {
   "cell_type": "code",
   "execution_count": 84,
   "metadata": {},
   "outputs": [],
   "source": [
    "ramos_y_cursos_dictados_por_profesor = {}\n",
    "for prof in profesores:\n",
    "    ramos_y_cursos_dictados_por_profesor[prof] = []\n",
    "    for curso in cantidad_de_horas_por_ramo_por_curso:\n",
    "        for ramo in cantidad_de_horas_por_ramo_por_curso[curso]:\n",
    "            p = random.random()\n",
    "            if p > 0.7:\n",
    "                ramos_y_cursos_dictados_por_profesor[prof].append([ramo, curso])"
   ]
  },
  {
   "cell_type": "code",
   "execution_count": 85,
   "metadata": {},
   "outputs": [],
   "source": [
    "preferencias_profesores = {}\n",
    "for prof in profesores:\n",
    "    preferencias_profesores[prof] = []\n",
    "    for ramo,curso in ramos_y_cursos_dictados_por_profesor[prof]:\n",
    "        p = random.random()\n",
    "        if p > 0.98:\n",
    "            preferencias_profesores[prof].append([ramo, curso])"
   ]
  },
  {
   "cell_type": "code",
   "execution_count": 86,
   "metadata": {},
   "outputs": [],
   "source": [
    "clases_ya_asignadas = []\n",
    "pares_asignados = []\n",
    "for prof in profesores:\n",
    "    for ramo,curso in ramos_y_cursos_dictados_por_profesor[prof]:\n",
    "        p = random.random()\n",
    "        if (curso, ramo) not in pares_asignados and p > 0.995:\n",
    "            clases_ya_asignadas.append([ramo,prof,curso])\n",
    "            pares_asignados.append((curso,ramo))"
   ]
  },
  {
   "cell_type": "code",
   "execution_count": 87,
   "metadata": {},
   "outputs": [],
   "source": [
    "output = {}\n",
    "output['clases_ya_asignadas'] = clases_ya_asignadas\n",
    "output['cantidad_de_horas_por_ramo_por_curso'] = cantidad_de_horas_por_ramo_por_curso\n",
    "output['disponibilidad_horaria'] = disponibilidad_horaria\n",
    "output['ramos_y_cursos_dictados_por_profesor'] = ramos_y_cursos_dictados_por_profesor\n",
    "output['preferencias_profesores'] = preferencias_profesores\n",
    "\n",
    "with open('parametros_probando.json', 'w', encoding='utf8') as f:\n",
    "    json.dump(output, f, indent=4)"
   ]
  }
 ],
 "metadata": {
  "kernelspec": {
   "display_name": "Python 3",
   "language": "python",
   "name": "python3"
  },
  "language_info": {
   "codemirror_mode": {
    "name": "ipython",
    "version": 3
   },
   "file_extension": ".py",
   "mimetype": "text/x-python",
   "name": "python",
   "nbconvert_exporter": "python",
   "pygments_lexer": "ipython3",
   "version": "3.8.10"
  },
  "orig_nbformat": 4,
  "vscode": {
   "interpreter": {
    "hash": "be96e54ac1641eb6b0b6e091bda5f4569f87f77d93d2c1fb370b248d11e29b0c"
   }
  }
 },
 "nbformat": 4,
 "nbformat_minor": 2
}
